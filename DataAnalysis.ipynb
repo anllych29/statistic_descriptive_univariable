{
  "nbformat": 4,
  "nbformat_minor": 0,
  "metadata": {
    "kernelspec": {
      "display_name": "Python 3",
      "language": "python",
      "name": "python3"
    },
    "language_info": {
      "codemirror_mode": {
        "name": "ipython",
        "version": 3
      },
      "file_extension": ".py",
      "mimetype": "text/x-python",
      "name": "python",
      "nbconvert_exporter": "python",
      "pygments_lexer": "ipython3",
      "version": "3.8.5"
    },
    "colab": {
      "name": "Taller_DataAnalysis_alumnas.ipynb",
      "provenance": [],
      "collapsed_sections": [],
      "include_colab_link": true
    }
  },
  "cells": [
    {
      "cell_type": "markdown",
      "metadata": {
        "id": "view-in-github",
        "colab_type": "text"
      },
      "source": [
        "<a href=\"https://colab.research.google.com/github/anllych29/statistic_descriptive_univariable/blob/master/DataAnalysis.ipynb\" target=\"_parent\"><img src=\"https://colab.research.google.com/assets/colab-badge.svg\" alt=\"Open In Colab\"/></a>"
      ]
    },
    {
      "cell_type": "markdown",
      "metadata": {
        "id": "kaVWJv3ELQzJ"
      },
      "source": [
        "### Variables e impresión en pantalla\n"
      ]
    },
    {
      "cell_type": "markdown",
      "metadata": {
        "id": "WdaHHnKnLQzJ"
      },
      "source": [
        "Negrita: **Texto en negrita**\n",
        "\n",
        "Cursiva: _Texto_ o *Texto*\n",
        "\n",
        "# Titulo\n",
        "\n",
        "texto de analisis\n",
        "\n",
        "\n",
        "## 1.1 Subtitulo\n",
        "### Sub-subtitulo\n",
        "###### titulo pequeño\n",
        "\n",
        "\n",
        "* punto 1\n",
        "* punto 2\n",
        "* punto 3\n",
        "\n",
        "\n",
        "linea de texto $A_{c}$... más texto interesante\n",
        "\n",
        "$$\n",
        "A_{c} = G^{T}\n",
        "$$"
      ]
    },
    {
      "cell_type": "code",
      "metadata": {
        "id": "OYUmSBqJLQzK",
        "colab": {
          "base_uri": "https://localhost:8080/"
        },
        "outputId": "d3b8226e-ee2d-42ca-dd0f-170adb3593e7"
      },
      "source": [
        "variable = 'Camila' # string\n",
        "\n",
        "print('¡Hola! mi nombre es ' + variable)"
      ],
      "execution_count": null,
      "outputs": [
        {
          "output_type": "stream",
          "text": [
            "Hola!, mi nombre es Camila\n"
          ],
          "name": "stdout"
        }
      ]
    },
    {
      "cell_type": "code",
      "metadata": {
        "scrolled": true,
        "id": "_hzdK47ZLQzK"
      },
      "source": [
        "variable = 5 # int --> integer (entero)\n",
        "variable"
      ],
      "execution_count": null,
      "outputs": []
    },
    {
      "cell_type": "markdown",
      "metadata": {
        "id": "OfZXVEvWLQzL"
      },
      "source": [
        "### Operaciones aritméticas básicas"
      ]
    },
    {
      "cell_type": "code",
      "metadata": {
        "id": "QGpHjyNJLQzL"
      },
      "source": [
        "variable_1 = 15.54 # tipo float\n",
        "variable_2 = 5 # tipo int"
      ],
      "execution_count": null,
      "outputs": []
    },
    {
      "cell_type": "code",
      "metadata": {
        "id": "Ut6zIVE-LQzM"
      },
      "source": [
        "variable_1 + variable_2"
      ],
      "execution_count": null,
      "outputs": []
    },
    {
      "cell_type": "code",
      "metadata": {
        "id": "pv0_NjmXLQzM"
      },
      "source": [
        "print('La suma de las dos variables es ' + variable_1 + variable_2)  # Ups..."
      ],
      "execution_count": null,
      "outputs": []
    },
    {
      "cell_type": "markdown",
      "metadata": {
        "id": "NTTgJDPfLQzM"
      },
      "source": [
        "## Listas"
      ]
    },
    {
      "cell_type": "code",
      "metadata": {
        "id": "TBuFALjDLQzM",
        "colab": {
          "base_uri": "https://localhost:8080/"
        },
        "outputId": "f144f7c5-057f-4787-9a70-02bcab59937c"
      },
      "source": [
        "lista = []  # Asi creamos una lista vacia\n",
        "\n",
        "lista.append('Juan')\n",
        "lista.append('Alejandro')\n",
        "\n",
        "print(f'La lista quedo asi: {lista}')"
      ],
      "execution_count": null,
      "outputs": [
        {
          "output_type": "stream",
          "text": [
            "La lista quedo asi: ['Juan', 'Alejandro']\n"
          ],
          "name": "stdout"
        }
      ]
    },
    {
      "cell_type": "markdown",
      "metadata": {
        "id": "r0HMXx-1LQzN"
      },
      "source": [
        "Para recuperar valores de una lista debemos hacerlo indicando el índice en el que se guardó:"
      ]
    },
    {
      "cell_type": "code",
      "metadata": {
        "id": "kUEzzfvMLQzN"
      },
      "source": [
        "lista[1]"
      ],
      "execution_count": null,
      "outputs": []
    },
    {
      "cell_type": "markdown",
      "metadata": {
        "id": "z-uRxtY3LQzN"
      },
      "source": [
        "\n",
        "<i><h2 style=\"text-align:center;color:#283A5B\"> Análisis Exploratorio de Datos</h2></i>\n",
        "<br>\n",
        "Trabajaremos con el dataset `nations` el cual contiene información sobre diferentes atributos de desarrollo humano en 194 paises, recolectados por las Naciones Unidas. Las columnas del dataset son:<br>\n",
        "<br>"
      ]
    },
    {
      "cell_type": "markdown",
      "metadata": {
        "id": "DFB05vZOLQzN"
      },
      "source": [
        "![image.png](data:image/png;base64,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)"
      ]
    },
    {
      "cell_type": "markdown",
      "metadata": {
        "id": "PvWZxcLgLQzN"
      },
      "source": [
        "\n",
        "## Algunas preguntas interesantes para guiar nuestro estudio\n",
        "\n",
        "<ol>\n",
        "<li> ¿Qué atributos son numéricos y cuales son categóricos?\n",
        "\n",
        "<li style='margin-top:15px'> ¿Cuantos datos tenemos de cada región?\n",
        "    \n",
        "<li style='margin-top:15px'> ¿Cuantas regiones tienen indices de CO2 mayores a la media?\n",
        "    \n",
        "<li style='margin-top:15px'> ¿Estadísticos básicos sobre la tasa de alfabetismo de África?\n",
        "\n",
        "</ol>"
      ]
    },
    {
      "cell_type": "code",
      "metadata": {
        "id": "yUmKjq1eLQzO"
      },
      "source": [
        "# Importamos las librerias que ocuparemos\n",
        "import pandas as pd   # Nos permitira trabajar con representaciones de los datos\n",
        "import numpy as np  # Nos permitira hacer calculos y operaciones matematicas\n",
        "\n",
        "\n",
        "import warnings\n",
        "warnings.filterwarnings('ignore')"
      ],
      "execution_count": 1,
      "outputs": []
    },
    {
      "cell_type": "code",
      "metadata": {
        "id": "a53HUOniLQzO",
        "colab": {
          "base_uri": "https://localhost:8080/",
          "height": 419
        },
        "outputId": "6fe77cb2-3a12-478e-bca7-239e94fcdcff"
      },
      "source": [
        "pd.read_csv('nations.csv')"
      ],
      "execution_count": 2,
      "outputs": [
        {
          "output_type": "execute_result",
          "data": {
            "text/html": [
              "<div>\n",
              "<style scoped>\n",
              "    .dataframe tbody tr th:only-of-type {\n",
              "        vertical-align: middle;\n",
              "    }\n",
              "\n",
              "    .dataframe tbody tr th {\n",
              "        vertical-align: top;\n",
              "    }\n",
              "\n",
              "    .dataframe thead th {\n",
              "        text-align: right;\n",
              "    }\n",
              "</style>\n",
              "<table border=\"1\" class=\"dataframe\">\n",
              "  <thead>\n",
              "    <tr style=\"text-align: right;\">\n",
              "      <th></th>\n",
              "      <th>Unnamed: 0</th>\n",
              "      <th>country</th>\n",
              "      <th>region</th>\n",
              "      <th>gdp</th>\n",
              "      <th>school</th>\n",
              "      <th>adfert</th>\n",
              "      <th>chldmort</th>\n",
              "      <th>life</th>\n",
              "      <th>pop</th>\n",
              "      <th>urban</th>\n",
              "      <th>femlab</th>\n",
              "      <th>literacy</th>\n",
              "      <th>co2</th>\n",
              "      <th>gini</th>\n",
              "    </tr>\n",
              "  </thead>\n",
              "  <tbody>\n",
              "    <tr>\n",
              "      <th>0</th>\n",
              "      <td>1</td>\n",
              "      <td>Algeria</td>\n",
              "      <td>Africa</td>\n",
              "      <td>7300.399902</td>\n",
              "      <td>6.716667</td>\n",
              "      <td>7.300000</td>\n",
              "      <td>34.75</td>\n",
              "      <td>72.316666</td>\n",
              "      <td>34172236</td>\n",
              "      <td>64.933334</td>\n",
              "      <td>0.4522</td>\n",
              "      <td>72.599998</td>\n",
              "      <td>15.00</td>\n",
              "      <td>NaN</td>\n",
              "    </tr>\n",
              "    <tr>\n",
              "      <th>1</th>\n",
              "      <td>2</td>\n",
              "      <td>Benin</td>\n",
              "      <td>Africa</td>\n",
              "      <td>1338.800049</td>\n",
              "      <td>3.100000</td>\n",
              "      <td>111.699997</td>\n",
              "      <td>122.75</td>\n",
              "      <td>54.733334</td>\n",
              "      <td>8237634</td>\n",
              "      <td>41.000000</td>\n",
              "      <td>0.8482</td>\n",
              "      <td>41.700001</td>\n",
              "      <td>1.20</td>\n",
              "      <td>NaN</td>\n",
              "    </tr>\n",
              "    <tr>\n",
              "      <th>2</th>\n",
              "      <td>3</td>\n",
              "      <td>Botswana</td>\n",
              "      <td>Africa</td>\n",
              "      <td>12307.400391</td>\n",
              "      <td>8.600000</td>\n",
              "      <td>52.099998</td>\n",
              "      <td>60.25</td>\n",
              "      <td>52.250000</td>\n",
              "      <td>1941233</td>\n",
              "      <td>59.250000</td>\n",
              "      <td>0.8870</td>\n",
              "      <td>84.099998</td>\n",
              "      <td>9.20</td>\n",
              "      <td>NaN</td>\n",
              "    </tr>\n",
              "    <tr>\n",
              "      <th>3</th>\n",
              "      <td>4</td>\n",
              "      <td>Burkina Faso</td>\n",
              "      <td>Africa</td>\n",
              "      <td>1063.400024</td>\n",
              "      <td>1.300000</td>\n",
              "      <td>124.800003</td>\n",
              "      <td>170.50</td>\n",
              "      <td>53.783333</td>\n",
              "      <td>15308383</td>\n",
              "      <td>23.583334</td>\n",
              "      <td>0.8584</td>\n",
              "      <td>23.600000</td>\n",
              "      <td>0.20</td>\n",
              "      <td>NaN</td>\n",
              "    </tr>\n",
              "    <tr>\n",
              "      <th>4</th>\n",
              "      <td>5</td>\n",
              "      <td>Burundi</td>\n",
              "      <td>Africa</td>\n",
              "      <td>349.200012</td>\n",
              "      <td>2.483333</td>\n",
              "      <td>18.600000</td>\n",
              "      <td>168.50</td>\n",
              "      <td>48.866665</td>\n",
              "      <td>7821783</td>\n",
              "      <td>10.250000</td>\n",
              "      <td>1.0344</td>\n",
              "      <td>66.599998</td>\n",
              "      <td>0.10</td>\n",
              "      <td>33.299999</td>\n",
              "    </tr>\n",
              "    <tr>\n",
              "      <th>...</th>\n",
              "      <td>...</td>\n",
              "      <td>...</td>\n",
              "      <td>...</td>\n",
              "      <td>...</td>\n",
              "      <td>...</td>\n",
              "      <td>...</td>\n",
              "      <td>...</td>\n",
              "      <td>...</td>\n",
              "      <td>...</td>\n",
              "      <td>...</td>\n",
              "      <td>...</td>\n",
              "      <td>...</td>\n",
              "      <td>...</td>\n",
              "      <td>...</td>\n",
              "    </tr>\n",
              "    <tr>\n",
              "      <th>189</th>\n",
              "      <td>190</td>\n",
              "      <td>Samoa</td>\n",
              "      <td>Oceania</td>\n",
              "      <td>4012.600098</td>\n",
              "      <td>10.300000</td>\n",
              "      <td>28.299999</td>\n",
              "      <td>26.75</td>\n",
              "      <td>71.533333</td>\n",
              "      <td>181600</td>\n",
              "      <td>20.666668</td>\n",
              "      <td>0.5010</td>\n",
              "      <td>98.800003</td>\n",
              "      <td>3.10</td>\n",
              "      <td>NaN</td>\n",
              "    </tr>\n",
              "    <tr>\n",
              "      <th>190</th>\n",
              "      <td>191</td>\n",
              "      <td>Solomon Islands</td>\n",
              "      <td>Oceania</td>\n",
              "      <td>2249.199951</td>\n",
              "      <td>4.500000</td>\n",
              "      <td>70.300003</td>\n",
              "      <td>36.00</td>\n",
              "      <td>66.500000</td>\n",
              "      <td>503617</td>\n",
              "      <td>17.766666</td>\n",
              "      <td>0.4858</td>\n",
              "      <td>NaN</td>\n",
              "      <td>1.40</td>\n",
              "      <td>NaN</td>\n",
              "    </tr>\n",
              "    <tr>\n",
              "      <th>191</th>\n",
              "      <td>192</td>\n",
              "      <td>Tonga</td>\n",
              "      <td>Oceania</td>\n",
              "      <td>4072.199951</td>\n",
              "      <td>10.133333</td>\n",
              "      <td>22.299999</td>\n",
              "      <td>19.25</td>\n",
              "      <td>71.833336</td>\n",
              "      <td>102550</td>\n",
              "      <td>23.266666</td>\n",
              "      <td>0.7150</td>\n",
              "      <td>99.000000</td>\n",
              "      <td>4.85</td>\n",
              "      <td>NaN</td>\n",
              "    </tr>\n",
              "    <tr>\n",
              "      <th>192</th>\n",
              "      <td>193</td>\n",
              "      <td>Tuvalu</td>\n",
              "      <td>Oceania</td>\n",
              "      <td>NaN</td>\n",
              "      <td>NaN</td>\n",
              "      <td>23.299999</td>\n",
              "      <td>36.50</td>\n",
              "      <td>66.033333</td>\n",
              "      <td>9767</td>\n",
              "      <td>49.233334</td>\n",
              "      <td>NaN</td>\n",
              "      <td>NaN</td>\n",
              "      <td>NaN</td>\n",
              "      <td>NaN</td>\n",
              "    </tr>\n",
              "    <tr>\n",
              "      <th>193</th>\n",
              "      <td>194</td>\n",
              "      <td>Vanuatu</td>\n",
              "      <td>Oceania</td>\n",
              "      <td>3809.800049</td>\n",
              "      <td>6.700000</td>\n",
              "      <td>54.000000</td>\n",
              "      <td>17.75</td>\n",
              "      <td>69.966667</td>\n",
              "      <td>225317</td>\n",
              "      <td>24.500000</td>\n",
              "      <td>0.8988</td>\n",
              "      <td>82.000000</td>\n",
              "      <td>1.50</td>\n",
              "      <td>NaN</td>\n",
              "    </tr>\n",
              "  </tbody>\n",
              "</table>\n",
              "<p>194 rows × 14 columns</p>\n",
              "</div>"
            ],
            "text/plain": [
              "     Unnamed: 0          country   region  ...   literacy    co2       gini\n",
              "0             1          Algeria   Africa  ...  72.599998  15.00        NaN\n",
              "1             2            Benin   Africa  ...  41.700001   1.20        NaN\n",
              "2             3         Botswana   Africa  ...  84.099998   9.20        NaN\n",
              "3             4     Burkina Faso   Africa  ...  23.600000   0.20        NaN\n",
              "4             5          Burundi   Africa  ...  66.599998   0.10  33.299999\n",
              "..          ...              ...      ...  ...        ...    ...        ...\n",
              "189         190            Samoa  Oceania  ...  98.800003   3.10        NaN\n",
              "190         191  Solomon Islands  Oceania  ...        NaN   1.40        NaN\n",
              "191         192            Tonga  Oceania  ...  99.000000   4.85        NaN\n",
              "192         193           Tuvalu  Oceania  ...        NaN    NaN        NaN\n",
              "193         194          Vanuatu  Oceania  ...  82.000000   1.50        NaN\n",
              "\n",
              "[194 rows x 14 columns]"
            ]
          },
          "metadata": {
            "tags": []
          },
          "execution_count": 2
        }
      ]
    },
    {
      "cell_type": "code",
      "metadata": {
        "id": "NF_y7hQBLQzO"
      },
      "source": [
        "df = pd.read_csv('nations.csv')"
      ],
      "execution_count": 3,
      "outputs": []
    },
    {
      "cell_type": "markdown",
      "metadata": {
        "id": "mFr47kqeLQzO"
      },
      "source": [
        "Podemos ver los primeros valores del dataset que cargamos con el método `head()`."
      ]
    },
    {
      "cell_type": "code",
      "metadata": {
        "id": "g0WSPjv0LQzO",
        "colab": {
          "base_uri": "https://localhost:8080/",
          "height": 204
        },
        "outputId": "8ab1abe9-75a7-4201-a782-719c15239ae4"
      },
      "source": [
        "df.head()"
      ],
      "execution_count": 4,
      "outputs": [
        {
          "output_type": "execute_result",
          "data": {
            "text/html": [
              "<div>\n",
              "<style scoped>\n",
              "    .dataframe tbody tr th:only-of-type {\n",
              "        vertical-align: middle;\n",
              "    }\n",
              "\n",
              "    .dataframe tbody tr th {\n",
              "        vertical-align: top;\n",
              "    }\n",
              "\n",
              "    .dataframe thead th {\n",
              "        text-align: right;\n",
              "    }\n",
              "</style>\n",
              "<table border=\"1\" class=\"dataframe\">\n",
              "  <thead>\n",
              "    <tr style=\"text-align: right;\">\n",
              "      <th></th>\n",
              "      <th>Unnamed: 0</th>\n",
              "      <th>country</th>\n",
              "      <th>region</th>\n",
              "      <th>gdp</th>\n",
              "      <th>school</th>\n",
              "      <th>adfert</th>\n",
              "      <th>chldmort</th>\n",
              "      <th>life</th>\n",
              "      <th>pop</th>\n",
              "      <th>urban</th>\n",
              "      <th>femlab</th>\n",
              "      <th>literacy</th>\n",
              "      <th>co2</th>\n",
              "      <th>gini</th>\n",
              "    </tr>\n",
              "  </thead>\n",
              "  <tbody>\n",
              "    <tr>\n",
              "      <th>0</th>\n",
              "      <td>1</td>\n",
              "      <td>Algeria</td>\n",
              "      <td>Africa</td>\n",
              "      <td>7300.399902</td>\n",
              "      <td>6.716667</td>\n",
              "      <td>7.300000</td>\n",
              "      <td>34.75</td>\n",
              "      <td>72.316666</td>\n",
              "      <td>34172236</td>\n",
              "      <td>64.933334</td>\n",
              "      <td>0.4522</td>\n",
              "      <td>72.599998</td>\n",
              "      <td>15.0</td>\n",
              "      <td>NaN</td>\n",
              "    </tr>\n",
              "    <tr>\n",
              "      <th>1</th>\n",
              "      <td>2</td>\n",
              "      <td>Benin</td>\n",
              "      <td>Africa</td>\n",
              "      <td>1338.800049</td>\n",
              "      <td>3.100000</td>\n",
              "      <td>111.699997</td>\n",
              "      <td>122.75</td>\n",
              "      <td>54.733334</td>\n",
              "      <td>8237634</td>\n",
              "      <td>41.000000</td>\n",
              "      <td>0.8482</td>\n",
              "      <td>41.700001</td>\n",
              "      <td>1.2</td>\n",
              "      <td>NaN</td>\n",
              "    </tr>\n",
              "    <tr>\n",
              "      <th>2</th>\n",
              "      <td>3</td>\n",
              "      <td>Botswana</td>\n",
              "      <td>Africa</td>\n",
              "      <td>12307.400391</td>\n",
              "      <td>8.600000</td>\n",
              "      <td>52.099998</td>\n",
              "      <td>60.25</td>\n",
              "      <td>52.250000</td>\n",
              "      <td>1941233</td>\n",
              "      <td>59.250000</td>\n",
              "      <td>0.8870</td>\n",
              "      <td>84.099998</td>\n",
              "      <td>9.2</td>\n",
              "      <td>NaN</td>\n",
              "    </tr>\n",
              "    <tr>\n",
              "      <th>3</th>\n",
              "      <td>4</td>\n",
              "      <td>Burkina Faso</td>\n",
              "      <td>Africa</td>\n",
              "      <td>1063.400024</td>\n",
              "      <td>1.300000</td>\n",
              "      <td>124.800003</td>\n",
              "      <td>170.50</td>\n",
              "      <td>53.783333</td>\n",
              "      <td>15308383</td>\n",
              "      <td>23.583334</td>\n",
              "      <td>0.8584</td>\n",
              "      <td>23.600000</td>\n",
              "      <td>0.2</td>\n",
              "      <td>NaN</td>\n",
              "    </tr>\n",
              "    <tr>\n",
              "      <th>4</th>\n",
              "      <td>5</td>\n",
              "      <td>Burundi</td>\n",
              "      <td>Africa</td>\n",
              "      <td>349.200012</td>\n",
              "      <td>2.483333</td>\n",
              "      <td>18.600000</td>\n",
              "      <td>168.50</td>\n",
              "      <td>48.866665</td>\n",
              "      <td>7821783</td>\n",
              "      <td>10.250000</td>\n",
              "      <td>1.0344</td>\n",
              "      <td>66.599998</td>\n",
              "      <td>0.1</td>\n",
              "      <td>33.299999</td>\n",
              "    </tr>\n",
              "  </tbody>\n",
              "</table>\n",
              "</div>"
            ],
            "text/plain": [
              "   Unnamed: 0       country  region  ...   literacy   co2       gini\n",
              "0           1       Algeria  Africa  ...  72.599998  15.0        NaN\n",
              "1           2         Benin  Africa  ...  41.700001   1.2        NaN\n",
              "2           3      Botswana  Africa  ...  84.099998   9.2        NaN\n",
              "3           4  Burkina Faso  Africa  ...  23.600000   0.2        NaN\n",
              "4           5       Burundi  Africa  ...  66.599998   0.1  33.299999\n",
              "\n",
              "[5 rows x 14 columns]"
            ]
          },
          "metadata": {
            "tags": []
          },
          "execution_count": 4
        }
      ]
    },
    {
      "cell_type": "markdown",
      "metadata": {
        "id": "hdM8E8byLQzO"
      },
      "source": [
        "... y con `tail()` los últimos"
      ]
    },
    {
      "cell_type": "code",
      "metadata": {
        "scrolled": true,
        "id": "ERfELyZ_LQzP",
        "colab": {
          "base_uri": "https://localhost:8080/",
          "height": 204
        },
        "outputId": "e2e5b3af-f06a-486e-c254-af96afb555c3"
      },
      "source": [
        "df.tail()"
      ],
      "execution_count": 5,
      "outputs": [
        {
          "output_type": "execute_result",
          "data": {
            "text/html": [
              "<div>\n",
              "<style scoped>\n",
              "    .dataframe tbody tr th:only-of-type {\n",
              "        vertical-align: middle;\n",
              "    }\n",
              "\n",
              "    .dataframe tbody tr th {\n",
              "        vertical-align: top;\n",
              "    }\n",
              "\n",
              "    .dataframe thead th {\n",
              "        text-align: right;\n",
              "    }\n",
              "</style>\n",
              "<table border=\"1\" class=\"dataframe\">\n",
              "  <thead>\n",
              "    <tr style=\"text-align: right;\">\n",
              "      <th></th>\n",
              "      <th>Unnamed: 0</th>\n",
              "      <th>country</th>\n",
              "      <th>region</th>\n",
              "      <th>gdp</th>\n",
              "      <th>school</th>\n",
              "      <th>adfert</th>\n",
              "      <th>chldmort</th>\n",
              "      <th>life</th>\n",
              "      <th>pop</th>\n",
              "      <th>urban</th>\n",
              "      <th>femlab</th>\n",
              "      <th>literacy</th>\n",
              "      <th>co2</th>\n",
              "      <th>gini</th>\n",
              "    </tr>\n",
              "  </thead>\n",
              "  <tbody>\n",
              "    <tr>\n",
              "      <th>189</th>\n",
              "      <td>190</td>\n",
              "      <td>Samoa</td>\n",
              "      <td>Oceania</td>\n",
              "      <td>4012.600098</td>\n",
              "      <td>10.300000</td>\n",
              "      <td>28.299999</td>\n",
              "      <td>26.75</td>\n",
              "      <td>71.533333</td>\n",
              "      <td>181600</td>\n",
              "      <td>20.666668</td>\n",
              "      <td>0.5010</td>\n",
              "      <td>98.800003</td>\n",
              "      <td>3.10</td>\n",
              "      <td>NaN</td>\n",
              "    </tr>\n",
              "    <tr>\n",
              "      <th>190</th>\n",
              "      <td>191</td>\n",
              "      <td>Solomon Islands</td>\n",
              "      <td>Oceania</td>\n",
              "      <td>2249.199951</td>\n",
              "      <td>4.500000</td>\n",
              "      <td>70.300003</td>\n",
              "      <td>36.00</td>\n",
              "      <td>66.500000</td>\n",
              "      <td>503617</td>\n",
              "      <td>17.766666</td>\n",
              "      <td>0.4858</td>\n",
              "      <td>NaN</td>\n",
              "      <td>1.40</td>\n",
              "      <td>NaN</td>\n",
              "    </tr>\n",
              "    <tr>\n",
              "      <th>191</th>\n",
              "      <td>192</td>\n",
              "      <td>Tonga</td>\n",
              "      <td>Oceania</td>\n",
              "      <td>4072.199951</td>\n",
              "      <td>10.133333</td>\n",
              "      <td>22.299999</td>\n",
              "      <td>19.25</td>\n",
              "      <td>71.833336</td>\n",
              "      <td>102550</td>\n",
              "      <td>23.266666</td>\n",
              "      <td>0.7150</td>\n",
              "      <td>99.000000</td>\n",
              "      <td>4.85</td>\n",
              "      <td>NaN</td>\n",
              "    </tr>\n",
              "    <tr>\n",
              "      <th>192</th>\n",
              "      <td>193</td>\n",
              "      <td>Tuvalu</td>\n",
              "      <td>Oceania</td>\n",
              "      <td>NaN</td>\n",
              "      <td>NaN</td>\n",
              "      <td>23.299999</td>\n",
              "      <td>36.50</td>\n",
              "      <td>66.033333</td>\n",
              "      <td>9767</td>\n",
              "      <td>49.233334</td>\n",
              "      <td>NaN</td>\n",
              "      <td>NaN</td>\n",
              "      <td>NaN</td>\n",
              "      <td>NaN</td>\n",
              "    </tr>\n",
              "    <tr>\n",
              "      <th>193</th>\n",
              "      <td>194</td>\n",
              "      <td>Vanuatu</td>\n",
              "      <td>Oceania</td>\n",
              "      <td>3809.800049</td>\n",
              "      <td>6.700000</td>\n",
              "      <td>54.000000</td>\n",
              "      <td>17.75</td>\n",
              "      <td>69.966667</td>\n",
              "      <td>225317</td>\n",
              "      <td>24.500000</td>\n",
              "      <td>0.8988</td>\n",
              "      <td>82.000000</td>\n",
              "      <td>1.50</td>\n",
              "      <td>NaN</td>\n",
              "    </tr>\n",
              "  </tbody>\n",
              "</table>\n",
              "</div>"
            ],
            "text/plain": [
              "     Unnamed: 0          country   region  ...   literacy   co2  gini\n",
              "189         190            Samoa  Oceania  ...  98.800003  3.10   NaN\n",
              "190         191  Solomon Islands  Oceania  ...        NaN  1.40   NaN\n",
              "191         192            Tonga  Oceania  ...  99.000000  4.85   NaN\n",
              "192         193           Tuvalu  Oceania  ...        NaN   NaN   NaN\n",
              "193         194          Vanuatu  Oceania  ...  82.000000  1.50   NaN\n",
              "\n",
              "[5 rows x 14 columns]"
            ]
          },
          "metadata": {
            "tags": []
          },
          "execution_count": 5
        }
      ]
    },
    {
      "cell_type": "markdown",
      "metadata": {
        "id": "vyHrpRnxLQzP"
      },
      "source": [
        "Podemos tomar una muesta aleatoria de los datos con `df.sample()`"
      ]
    },
    {
      "cell_type": "code",
      "metadata": {
        "scrolled": true,
        "id": "IbBzyyUjLQzP",
        "colab": {
          "base_uri": "https://localhost:8080/",
          "height": 80
        },
        "outputId": "70db0fff-0340-43e2-aca8-7ef423e5e359"
      },
      "source": [
        "df.sample() # Abrir documentacion con shift + tab"
      ],
      "execution_count": 6,
      "outputs": [
        {
          "output_type": "execute_result",
          "data": {
            "text/html": [
              "<div>\n",
              "<style scoped>\n",
              "    .dataframe tbody tr th:only-of-type {\n",
              "        vertical-align: middle;\n",
              "    }\n",
              "\n",
              "    .dataframe tbody tr th {\n",
              "        vertical-align: top;\n",
              "    }\n",
              "\n",
              "    .dataframe thead th {\n",
              "        text-align: right;\n",
              "    }\n",
              "</style>\n",
              "<table border=\"1\" class=\"dataframe\">\n",
              "  <thead>\n",
              "    <tr style=\"text-align: right;\">\n",
              "      <th></th>\n",
              "      <th>Unnamed: 0</th>\n",
              "      <th>country</th>\n",
              "      <th>region</th>\n",
              "      <th>gdp</th>\n",
              "      <th>school</th>\n",
              "      <th>adfert</th>\n",
              "      <th>chldmort</th>\n",
              "      <th>life</th>\n",
              "      <th>pop</th>\n",
              "      <th>urban</th>\n",
              "      <th>femlab</th>\n",
              "      <th>literacy</th>\n",
              "      <th>co2</th>\n",
              "      <th>gini</th>\n",
              "    </tr>\n",
              "  </thead>\n",
              "  <tbody>\n",
              "    <tr>\n",
              "      <th>164</th>\n",
              "      <td>165</td>\n",
              "      <td>Netherlands</td>\n",
              "      <td>Europe</td>\n",
              "      <td>36646.398438</td>\n",
              "      <td>11.3</td>\n",
              "      <td>5.1</td>\n",
              "      <td>4.75</td>\n",
              "      <td>80.066666</td>\n",
              "      <td>16467100</td>\n",
              "      <td>81.583336</td>\n",
              "      <td>0.7994</td>\n",
              "      <td>NaN</td>\n",
              "      <td>38.5</td>\n",
              "      <td>NaN</td>\n",
              "    </tr>\n",
              "  </tbody>\n",
              "</table>\n",
              "</div>"
            ],
            "text/plain": [
              "     Unnamed: 0      country  region  ...  literacy   co2  gini\n",
              "164         165  Netherlands  Europe  ...       NaN  38.5   NaN\n",
              "\n",
              "[1 rows x 14 columns]"
            ]
          },
          "metadata": {
            "tags": []
          },
          "execution_count": 6
        }
      ]
    },
    {
      "cell_type": "markdown",
      "metadata": {
        "id": "IHFGAyNZLQzP"
      },
      "source": [
        "Eliminaremos la columna `Unnamed: 0` ya que parece no ser relevante:"
      ]
    },
    {
      "cell_type": "code",
      "metadata": {
        "id": "N9ePoftcLQzP"
      },
      "source": [
        "df.drop(columns = ['Unnamed: 0'], inplace = True)"
      ],
      "execution_count": 7,
      "outputs": []
    },
    {
      "cell_type": "code",
      "metadata": {
        "id": "T4z12QB_LQzP",
        "colab": {
          "base_uri": "https://localhost:8080/",
          "height": 204
        },
        "outputId": "133876f7-bcae-469a-93de-e6a4d07b9cff"
      },
      "source": [
        "df.head()"
      ],
      "execution_count": 8,
      "outputs": [
        {
          "output_type": "execute_result",
          "data": {
            "text/html": [
              "<div>\n",
              "<style scoped>\n",
              "    .dataframe tbody tr th:only-of-type {\n",
              "        vertical-align: middle;\n",
              "    }\n",
              "\n",
              "    .dataframe tbody tr th {\n",
              "        vertical-align: top;\n",
              "    }\n",
              "\n",
              "    .dataframe thead th {\n",
              "        text-align: right;\n",
              "    }\n",
              "</style>\n",
              "<table border=\"1\" class=\"dataframe\">\n",
              "  <thead>\n",
              "    <tr style=\"text-align: right;\">\n",
              "      <th></th>\n",
              "      <th>country</th>\n",
              "      <th>region</th>\n",
              "      <th>gdp</th>\n",
              "      <th>school</th>\n",
              "      <th>adfert</th>\n",
              "      <th>chldmort</th>\n",
              "      <th>life</th>\n",
              "      <th>pop</th>\n",
              "      <th>urban</th>\n",
              "      <th>femlab</th>\n",
              "      <th>literacy</th>\n",
              "      <th>co2</th>\n",
              "      <th>gini</th>\n",
              "    </tr>\n",
              "  </thead>\n",
              "  <tbody>\n",
              "    <tr>\n",
              "      <th>0</th>\n",
              "      <td>Algeria</td>\n",
              "      <td>Africa</td>\n",
              "      <td>7300.399902</td>\n",
              "      <td>6.716667</td>\n",
              "      <td>7.300000</td>\n",
              "      <td>34.75</td>\n",
              "      <td>72.316666</td>\n",
              "      <td>34172236</td>\n",
              "      <td>64.933334</td>\n",
              "      <td>0.4522</td>\n",
              "      <td>72.599998</td>\n",
              "      <td>15.0</td>\n",
              "      <td>NaN</td>\n",
              "    </tr>\n",
              "    <tr>\n",
              "      <th>1</th>\n",
              "      <td>Benin</td>\n",
              "      <td>Africa</td>\n",
              "      <td>1338.800049</td>\n",
              "      <td>3.100000</td>\n",
              "      <td>111.699997</td>\n",
              "      <td>122.75</td>\n",
              "      <td>54.733334</td>\n",
              "      <td>8237634</td>\n",
              "      <td>41.000000</td>\n",
              "      <td>0.8482</td>\n",
              "      <td>41.700001</td>\n",
              "      <td>1.2</td>\n",
              "      <td>NaN</td>\n",
              "    </tr>\n",
              "    <tr>\n",
              "      <th>2</th>\n",
              "      <td>Botswana</td>\n",
              "      <td>Africa</td>\n",
              "      <td>12307.400391</td>\n",
              "      <td>8.600000</td>\n",
              "      <td>52.099998</td>\n",
              "      <td>60.25</td>\n",
              "      <td>52.250000</td>\n",
              "      <td>1941233</td>\n",
              "      <td>59.250000</td>\n",
              "      <td>0.8870</td>\n",
              "      <td>84.099998</td>\n",
              "      <td>9.2</td>\n",
              "      <td>NaN</td>\n",
              "    </tr>\n",
              "    <tr>\n",
              "      <th>3</th>\n",
              "      <td>Burkina Faso</td>\n",
              "      <td>Africa</td>\n",
              "      <td>1063.400024</td>\n",
              "      <td>1.300000</td>\n",
              "      <td>124.800003</td>\n",
              "      <td>170.50</td>\n",
              "      <td>53.783333</td>\n",
              "      <td>15308383</td>\n",
              "      <td>23.583334</td>\n",
              "      <td>0.8584</td>\n",
              "      <td>23.600000</td>\n",
              "      <td>0.2</td>\n",
              "      <td>NaN</td>\n",
              "    </tr>\n",
              "    <tr>\n",
              "      <th>4</th>\n",
              "      <td>Burundi</td>\n",
              "      <td>Africa</td>\n",
              "      <td>349.200012</td>\n",
              "      <td>2.483333</td>\n",
              "      <td>18.600000</td>\n",
              "      <td>168.50</td>\n",
              "      <td>48.866665</td>\n",
              "      <td>7821783</td>\n",
              "      <td>10.250000</td>\n",
              "      <td>1.0344</td>\n",
              "      <td>66.599998</td>\n",
              "      <td>0.1</td>\n",
              "      <td>33.299999</td>\n",
              "    </tr>\n",
              "  </tbody>\n",
              "</table>\n",
              "</div>"
            ],
            "text/plain": [
              "        country  region           gdp  ...   literacy   co2       gini\n",
              "0       Algeria  Africa   7300.399902  ...  72.599998  15.0        NaN\n",
              "1         Benin  Africa   1338.800049  ...  41.700001   1.2        NaN\n",
              "2      Botswana  Africa  12307.400391  ...  84.099998   9.2        NaN\n",
              "3  Burkina Faso  Africa   1063.400024  ...  23.600000   0.2        NaN\n",
              "4       Burundi  Africa    349.200012  ...  66.599998   0.1  33.299999\n",
              "\n",
              "[5 rows x 13 columns]"
            ]
          },
          "metadata": {
            "tags": []
          },
          "execution_count": 8
        }
      ]
    },
    {
      "cell_type": "code",
      "metadata": {
        "scrolled": true,
        "id": "l9DjM9x8LQzP",
        "colab": {
          "base_uri": "https://localhost:8080/"
        },
        "outputId": "8a5d76a6-6fd8-46a5-ef3f-8079006eef56"
      },
      "source": [
        "df.columns"
      ],
      "execution_count": 9,
      "outputs": [
        {
          "output_type": "execute_result",
          "data": {
            "text/plain": [
              "Index(['country', 'region', 'gdp', 'school', 'adfert', 'chldmort', 'life',\n",
              "       'pop', 'urban', 'femlab', 'literacy', 'co2', 'gini'],\n",
              "      dtype='object')"
            ]
          },
          "metadata": {
            "tags": []
          },
          "execution_count": 9
        }
      ]
    },
    {
      "cell_type": "markdown",
      "metadata": {
        "id": "pek7nqtdLQzP"
      },
      "source": [
        "Podemos acceder a los datos de una columna de la siguiente forma"
      ]
    },
    {
      "cell_type": "code",
      "metadata": {
        "id": "7OwE1bOwLQzP",
        "colab": {
          "base_uri": "https://localhost:8080/"
        },
        "outputId": "4ce0224f-f3a2-4813-bb3b-08316d295717"
      },
      "source": [
        "df['region']"
      ],
      "execution_count": 10,
      "outputs": [
        {
          "output_type": "execute_result",
          "data": {
            "text/plain": [
              "0       Africa\n",
              "1       Africa\n",
              "2       Africa\n",
              "3       Africa\n",
              "4       Africa\n",
              "        ...   \n",
              "189    Oceania\n",
              "190    Oceania\n",
              "191    Oceania\n",
              "192    Oceania\n",
              "193    Oceania\n",
              "Name: region, Length: 194, dtype: object"
            ]
          },
          "metadata": {
            "tags": []
          },
          "execution_count": 10
        }
      ]
    },
    {
      "cell_type": "code",
      "metadata": {
        "id": "yBJRVFhaLQzQ"
      },
      "source": [
        "var_region = df['region']"
      ],
      "execution_count": 11,
      "outputs": []
    },
    {
      "cell_type": "markdown",
      "metadata": {
        "id": "VALNjq41LQzQ"
      },
      "source": [
        "Ahora en la variable `var_region` se encuentra una copia de la columna"
      ]
    },
    {
      "cell_type": "code",
      "metadata": {
        "id": "eLZSZJ2uLQzQ",
        "colab": {
          "base_uri": "https://localhost:8080/"
        },
        "outputId": "0236721a-9d75-424e-9109-7ef187398b69"
      },
      "source": [
        "var_region"
      ],
      "execution_count": 12,
      "outputs": [
        {
          "output_type": "execute_result",
          "data": {
            "text/plain": [
              "0       Africa\n",
              "1       Africa\n",
              "2       Africa\n",
              "3       Africa\n",
              "4       Africa\n",
              "        ...   \n",
              "189    Oceania\n",
              "190    Oceania\n",
              "191    Oceania\n",
              "192    Oceania\n",
              "193    Oceania\n",
              "Name: region, Length: 194, dtype: object"
            ]
          },
          "metadata": {
            "tags": []
          },
          "execution_count": 12
        }
      ]
    },
    {
      "cell_type": "markdown",
      "metadata": {
        "id": "_kM5mhpVLQzQ"
      },
      "source": [
        "**Pregunta 2:** Cantidad de datos por región\n",
        "\n",
        "\n",
        "Primero, veamos que se puede recuperar una lista con las clases únicas presentes en una columna"
      ]
    },
    {
      "cell_type": "code",
      "metadata": {
        "id": "u5dgeIlzLQzQ",
        "colab": {
          "base_uri": "https://localhost:8080/"
        },
        "outputId": "1835d9b5-dde5-4720-b2ef-3e4eb00b0876"
      },
      "source": [
        "df['region'].unique()"
      ],
      "execution_count": 13,
      "outputs": [
        {
          "output_type": "execute_result",
          "data": {
            "text/plain": [
              "array(['Africa', 'Americas', 'Asia', 'Europe', 'Oceania'], dtype=object)"
            ]
          },
          "metadata": {
            "tags": []
          },
          "execution_count": 13
        }
      ]
    },
    {
      "cell_type": "markdown",
      "metadata": {
        "id": "cbwt3OPALQzQ"
      },
      "source": [
        "Lista de frecuencias de clases:"
      ]
    },
    {
      "cell_type": "code",
      "metadata": {
        "id": "e-52oK-oLQzQ",
        "colab": {
          "base_uri": "https://localhost:8080/"
        },
        "outputId": "0bf99f9d-9d43-48ee-ed5c-c3bb8bf1a1b1"
      },
      "source": [
        "df['region'].value_counts()"
      ],
      "execution_count": 14,
      "outputs": [
        {
          "output_type": "execute_result",
          "data": {
            "text/plain": [
              "Africa      52\n",
              "Asia        49\n",
              "Europe      43\n",
              "Americas    35\n",
              "Oceania     15\n",
              "Name: region, dtype: int64"
            ]
          },
          "metadata": {
            "tags": []
          },
          "execution_count": 14
        }
      ]
    },
    {
      "cell_type": "markdown",
      "metadata": {
        "id": "IUQqazrDLQzQ"
      },
      "source": [
        "Para obtener estadísticos básicos de una columna con el método `describe()`:"
      ]
    },
    {
      "cell_type": "code",
      "metadata": {
        "id": "akN-J0qyLQzQ",
        "colab": {
          "base_uri": "https://localhost:8080/"
        },
        "outputId": "0f49e331-e8fc-411c-fa45-938f0cf6be95"
      },
      "source": [
        "df['gini'].describe()"
      ],
      "execution_count": 15,
      "outputs": [
        {
          "output_type": "execute_result",
          "data": {
            "text/plain": [
              "count    81.000000\n",
              "mean     40.477778\n",
              "std       8.487874\n",
              "min      19.000000\n",
              "25%      34.000000\n",
              "50%      39.700001\n",
              "75%      46.200001\n",
              "max      58.500000\n",
              "Name: gini, dtype: float64"
            ]
          },
          "metadata": {
            "tags": []
          },
          "execution_count": 15
        }
      ]
    },
    {
      "cell_type": "code",
      "metadata": {
        "id": "_mymuk9MLQzQ",
        "colab": {
          "base_uri": "https://localhost:8080/"
        },
        "outputId": "05921c3b-e186-4a1e-c5e7-e57a00f34641"
      },
      "source": [
        "df['region'].describe()"
      ],
      "execution_count": 16,
      "outputs": [
        {
          "output_type": "execute_result",
          "data": {
            "text/plain": [
              "count        194\n",
              "unique         5\n",
              "top       Africa\n",
              "freq          52\n",
              "Name: region, dtype: object"
            ]
          },
          "metadata": {
            "tags": []
          },
          "execution_count": 16
        }
      ]
    },
    {
      "cell_type": "markdown",
      "metadata": {
        "id": "itaZ4VyBLQzR"
      },
      "source": [
        "\n",
        "Qué hacemos si queremos obtener los estadísticos básicos de todas las columnas?, podemos usar un loop para obtener los estadísticos de cada columna:\n",
        "### Forma iterativa (lenta)"
      ]
    },
    {
      "cell_type": "code",
      "metadata": {
        "id": "-HHUTJY_LQzR",
        "colab": {
          "base_uri": "https://localhost:8080/"
        },
        "outputId": "04804130-9049-42c2-df91-bea7f72a066d"
      },
      "source": [
        "df.columns"
      ],
      "execution_count": 17,
      "outputs": [
        {
          "output_type": "execute_result",
          "data": {
            "text/plain": [
              "Index(['country', 'region', 'gdp', 'school', 'adfert', 'chldmort', 'life',\n",
              "       'pop', 'urban', 'femlab', 'literacy', 'co2', 'gini'],\n",
              "      dtype='object')"
            ]
          },
          "metadata": {
            "tags": []
          },
          "execution_count": 17
        }
      ]
    },
    {
      "cell_type": "code",
      "metadata": {
        "scrolled": true,
        "id": "dHEnotzbLQzR",
        "colab": {
          "base_uri": "https://localhost:8080/"
        },
        "outputId": "496fd9d6-1bd3-445c-e600-5bded0e82015"
      },
      "source": [
        "for columna in df.columns:\n",
        "    print(f'\\nEstadísticos de la columna {columna}')\n",
        "    print(df[columna].describe())\n"
      ],
      "execution_count": 18,
      "outputs": [
        {
          "output_type": "stream",
          "text": [
            "\n",
            "Estadísticos de la columna country\n",
            "count      194\n",
            "unique     194\n",
            "top       Togo\n",
            "freq         1\n",
            "Name: country, dtype: object\n",
            "\n",
            "Estadísticos de la columna region\n",
            "count        194\n",
            "unique         5\n",
            "top       Africa\n",
            "freq          52\n",
            "Name: region, dtype: object\n",
            "\n",
            "Estadísticos de la columna gdp\n",
            "count      179.000000\n",
            "mean     12118.739193\n",
            "std      13942.341217\n",
            "min        279.799988\n",
            "25%       2100.300049\n",
            "50%       6932.799805\n",
            "75%      17576.299805\n",
            "max      74906.000000\n",
            "Name: gdp, dtype: float64\n",
            "\n",
            "Estadísticos de la columna school\n",
            "count    188.000000\n",
            "mean       7.459220\n",
            "std        2.959589\n",
            "min        1.150000\n",
            "25%        5.225000\n",
            "50%        7.950000\n",
            "75%        9.850000\n",
            "max       12.700000\n",
            "Name: school, dtype: float64\n",
            "\n",
            "Estadísticos de la columna adfert\n",
            "count    194.000000\n",
            "mean      51.814433\n",
            "std       44.066120\n",
            "min        1.000000\n",
            "25%       16.500000\n",
            "50%       39.350000\n",
            "75%       74.375002\n",
            "max      207.100006\n",
            "Name: adfert, dtype: float64\n",
            "\n",
            "Estadísticos de la columna chldmort\n",
            "count    193.000000\n",
            "mean      47.650259\n",
            "std       52.809400\n",
            "min        2.250000\n",
            "25%       10.250000\n",
            "50%       24.000000\n",
            "75%       69.750000\n",
            "max      209.000000\n",
            "Name: chldmort, dtype: float64\n",
            "\n",
            "Estadísticos de la columna life\n",
            "count    194.000000\n",
            "mean      68.729295\n",
            "std       10.055404\n",
            "min       45.849998\n",
            "25%       63.745833\n",
            "50%       72.183331\n",
            "75%       75.545835\n",
            "max       82.766663\n",
            "Name: life, dtype: float64\n",
            "\n",
            "Estadísticos de la columna pop\n",
            "count    1.940000e+02\n",
            "mean     3.437752e+07\n",
            "std      1.314004e+08\n",
            "min      9.767000e+03\n",
            "25%      1.483754e+06\n",
            "50%      6.784909e+06\n",
            "75%      2.225532e+07\n",
            "max      1.324696e+09\n",
            "Name: pop, dtype: float64\n",
            "\n",
            "Estadísticos de la columna urban\n",
            "count    194.000000\n",
            "mean      55.434880\n",
            "std       23.439101\n",
            "min       10.250000\n",
            "25%       36.325000\n",
            "50%       56.475000\n",
            "75%       73.483334\n",
            "max      100.000000\n",
            "Name: urban, dtype: float64\n",
            "\n",
            "Estadísticos de la columna femlab\n",
            "count    177.000000\n",
            "mean       0.691606\n",
            "std        0.182871\n",
            "min        0.194200\n",
            "25%        0.578200\n",
            "50%        0.730400\n",
            "75%        0.820600\n",
            "max        1.034400\n",
            "Name: femlab, dtype: float64\n",
            "\n",
            "Estadísticos de la columna literacy\n",
            "count    135.000000\n",
            "mean      81.533148\n",
            "std       19.466359\n",
            "min       23.600000\n",
            "25%       70.099998\n",
            "50%       89.699997\n",
            "75%       97.699997\n",
            "max      100.000000\n",
            "Name: literacy, dtype: float64\n",
            "\n",
            "Estadísticos de la columna co2\n",
            "count    185.000000\n",
            "mean      17.885946\n",
            "std       25.670704\n",
            "min        0.100000\n",
            "25%        2.250000\n",
            "50%        8.450000\n",
            "75%       25.000000\n",
            "max      210.649994\n",
            "Name: co2, dtype: float64\n",
            "\n",
            "Estadísticos de la columna gini\n",
            "count    81.000000\n",
            "mean     40.477778\n",
            "std       8.487874\n",
            "min      19.000000\n",
            "25%      34.000000\n",
            "50%      39.700001\n",
            "75%      46.200001\n",
            "max      58.500000\n",
            "Name: gini, dtype: float64\n"
          ],
          "name": "stdout"
        }
      ]
    },
    {
      "cell_type": "markdown",
      "metadata": {
        "id": "6Alx7NiQLQzR"
      },
      "source": [
        "### Aprovechando los métodos de la clase dataframe\n",
        "O podemos usar el método `describe()` sobre todo el dataset!"
      ]
    },
    {
      "cell_type": "code",
      "metadata": {
        "scrolled": true,
        "id": "0dbFIwuzLQzR",
        "colab": {
          "base_uri": "https://localhost:8080/",
          "height": 390
        },
        "outputId": "a127b5e4-4a4f-47fa-fe7f-3cec52af37b0"
      },
      "source": [
        "df.describe(include = 'all').replace(np.nan, '-')"
      ],
      "execution_count": 19,
      "outputs": [
        {
          "output_type": "execute_result",
          "data": {
            "text/html": [
              "<div>\n",
              "<style scoped>\n",
              "    .dataframe tbody tr th:only-of-type {\n",
              "        vertical-align: middle;\n",
              "    }\n",
              "\n",
              "    .dataframe tbody tr th {\n",
              "        vertical-align: top;\n",
              "    }\n",
              "\n",
              "    .dataframe thead th {\n",
              "        text-align: right;\n",
              "    }\n",
              "</style>\n",
              "<table border=\"1\" class=\"dataframe\">\n",
              "  <thead>\n",
              "    <tr style=\"text-align: right;\">\n",
              "      <th></th>\n",
              "      <th>country</th>\n",
              "      <th>region</th>\n",
              "      <th>gdp</th>\n",
              "      <th>school</th>\n",
              "      <th>adfert</th>\n",
              "      <th>chldmort</th>\n",
              "      <th>life</th>\n",
              "      <th>pop</th>\n",
              "      <th>urban</th>\n",
              "      <th>femlab</th>\n",
              "      <th>literacy</th>\n",
              "      <th>co2</th>\n",
              "      <th>gini</th>\n",
              "    </tr>\n",
              "  </thead>\n",
              "  <tbody>\n",
              "    <tr>\n",
              "      <th>count</th>\n",
              "      <td>194</td>\n",
              "      <td>194</td>\n",
              "      <td>179</td>\n",
              "      <td>188</td>\n",
              "      <td>194</td>\n",
              "      <td>193</td>\n",
              "      <td>194</td>\n",
              "      <td>194</td>\n",
              "      <td>194</td>\n",
              "      <td>177</td>\n",
              "      <td>135</td>\n",
              "      <td>185</td>\n",
              "      <td>81</td>\n",
              "    </tr>\n",
              "    <tr>\n",
              "      <th>unique</th>\n",
              "      <td>194</td>\n",
              "      <td>5</td>\n",
              "      <td>-</td>\n",
              "      <td>-</td>\n",
              "      <td>-</td>\n",
              "      <td>-</td>\n",
              "      <td>-</td>\n",
              "      <td>-</td>\n",
              "      <td>-</td>\n",
              "      <td>-</td>\n",
              "      <td>-</td>\n",
              "      <td>-</td>\n",
              "      <td>-</td>\n",
              "    </tr>\n",
              "    <tr>\n",
              "      <th>top</th>\n",
              "      <td>Togo</td>\n",
              "      <td>Africa</td>\n",
              "      <td>-</td>\n",
              "      <td>-</td>\n",
              "      <td>-</td>\n",
              "      <td>-</td>\n",
              "      <td>-</td>\n",
              "      <td>-</td>\n",
              "      <td>-</td>\n",
              "      <td>-</td>\n",
              "      <td>-</td>\n",
              "      <td>-</td>\n",
              "      <td>-</td>\n",
              "    </tr>\n",
              "    <tr>\n",
              "      <th>freq</th>\n",
              "      <td>1</td>\n",
              "      <td>52</td>\n",
              "      <td>-</td>\n",
              "      <td>-</td>\n",
              "      <td>-</td>\n",
              "      <td>-</td>\n",
              "      <td>-</td>\n",
              "      <td>-</td>\n",
              "      <td>-</td>\n",
              "      <td>-</td>\n",
              "      <td>-</td>\n",
              "      <td>-</td>\n",
              "      <td>-</td>\n",
              "    </tr>\n",
              "    <tr>\n",
              "      <th>mean</th>\n",
              "      <td>-</td>\n",
              "      <td>-</td>\n",
              "      <td>12118.7</td>\n",
              "      <td>7.45922</td>\n",
              "      <td>51.8144</td>\n",
              "      <td>47.6503</td>\n",
              "      <td>68.7293</td>\n",
              "      <td>3.43775e+07</td>\n",
              "      <td>55.4349</td>\n",
              "      <td>0.691606</td>\n",
              "      <td>81.5331</td>\n",
              "      <td>17.8859</td>\n",
              "      <td>40.4778</td>\n",
              "    </tr>\n",
              "    <tr>\n",
              "      <th>std</th>\n",
              "      <td>-</td>\n",
              "      <td>-</td>\n",
              "      <td>13942.3</td>\n",
              "      <td>2.95959</td>\n",
              "      <td>44.0661</td>\n",
              "      <td>52.8094</td>\n",
              "      <td>10.0554</td>\n",
              "      <td>1.314e+08</td>\n",
              "      <td>23.4391</td>\n",
              "      <td>0.182871</td>\n",
              "      <td>19.4664</td>\n",
              "      <td>25.6707</td>\n",
              "      <td>8.48787</td>\n",
              "    </tr>\n",
              "    <tr>\n",
              "      <th>min</th>\n",
              "      <td>-</td>\n",
              "      <td>-</td>\n",
              "      <td>279.8</td>\n",
              "      <td>1.15</td>\n",
              "      <td>1</td>\n",
              "      <td>2.25</td>\n",
              "      <td>45.85</td>\n",
              "      <td>9767</td>\n",
              "      <td>10.25</td>\n",
              "      <td>0.1942</td>\n",
              "      <td>23.6</td>\n",
              "      <td>0.1</td>\n",
              "      <td>19</td>\n",
              "    </tr>\n",
              "    <tr>\n",
              "      <th>25%</th>\n",
              "      <td>-</td>\n",
              "      <td>-</td>\n",
              "      <td>2100.3</td>\n",
              "      <td>5.225</td>\n",
              "      <td>16.5</td>\n",
              "      <td>10.25</td>\n",
              "      <td>63.7458</td>\n",
              "      <td>1.48375e+06</td>\n",
              "      <td>36.325</td>\n",
              "      <td>0.5782</td>\n",
              "      <td>70.1</td>\n",
              "      <td>2.25</td>\n",
              "      <td>34</td>\n",
              "    </tr>\n",
              "    <tr>\n",
              "      <th>50%</th>\n",
              "      <td>-</td>\n",
              "      <td>-</td>\n",
              "      <td>6932.8</td>\n",
              "      <td>7.95</td>\n",
              "      <td>39.35</td>\n",
              "      <td>24</td>\n",
              "      <td>72.1833</td>\n",
              "      <td>6.78491e+06</td>\n",
              "      <td>56.475</td>\n",
              "      <td>0.7304</td>\n",
              "      <td>89.7</td>\n",
              "      <td>8.45</td>\n",
              "      <td>39.7</td>\n",
              "    </tr>\n",
              "    <tr>\n",
              "      <th>75%</th>\n",
              "      <td>-</td>\n",
              "      <td>-</td>\n",
              "      <td>17576.3</td>\n",
              "      <td>9.85</td>\n",
              "      <td>74.375</td>\n",
              "      <td>69.75</td>\n",
              "      <td>75.5458</td>\n",
              "      <td>2.22553e+07</td>\n",
              "      <td>73.4833</td>\n",
              "      <td>0.8206</td>\n",
              "      <td>97.7</td>\n",
              "      <td>25</td>\n",
              "      <td>46.2</td>\n",
              "    </tr>\n",
              "    <tr>\n",
              "      <th>max</th>\n",
              "      <td>-</td>\n",
              "      <td>-</td>\n",
              "      <td>74906</td>\n",
              "      <td>12.7</td>\n",
              "      <td>207.1</td>\n",
              "      <td>209</td>\n",
              "      <td>82.7667</td>\n",
              "      <td>1.3247e+09</td>\n",
              "      <td>100</td>\n",
              "      <td>1.0344</td>\n",
              "      <td>100</td>\n",
              "      <td>210.65</td>\n",
              "      <td>58.5</td>\n",
              "    </tr>\n",
              "  </tbody>\n",
              "</table>\n",
              "</div>"
            ],
            "text/plain": [
              "       country  region      gdp   school  ...    femlab literacy      co2     gini\n",
              "count      194     194      179      188  ...       177      135      185       81\n",
              "unique     194       5        -        -  ...         -        -        -        -\n",
              "top       Togo  Africa        -        -  ...         -        -        -        -\n",
              "freq         1      52        -        -  ...         -        -        -        -\n",
              "mean         -       -  12118.7  7.45922  ...  0.691606  81.5331  17.8859  40.4778\n",
              "std          -       -  13942.3  2.95959  ...  0.182871  19.4664  25.6707  8.48787\n",
              "min          -       -    279.8     1.15  ...    0.1942     23.6      0.1       19\n",
              "25%          -       -   2100.3    5.225  ...    0.5782     70.1     2.25       34\n",
              "50%          -       -   6932.8     7.95  ...    0.7304     89.7     8.45     39.7\n",
              "75%          -       -  17576.3     9.85  ...    0.8206     97.7       25     46.2\n",
              "max          -       -    74906     12.7  ...    1.0344      100   210.65     58.5\n",
              "\n",
              "[11 rows x 13 columns]"
            ]
          },
          "metadata": {
            "tags": []
          },
          "execution_count": 19
        }
      ]
    },
    {
      "cell_type": "markdown",
      "metadata": {
        "id": "XhI1wHbgLQzR"
      },
      "source": [
        "Ahora, veamos como podemos crear una columna artificial en nuestro dataset:"
      ]
    },
    {
      "cell_type": "markdown",
      "metadata": {
        "id": "_Ngp2bh1LQzR"
      },
      "source": [
        "### One-Hot Encoding\n",
        "Compra: (1, 0)\n",
        "\n",
        "No compra: (0, 1)\n",
        "\n",
        "### Binary Encoding\n",
        "Compra (1)\n",
        "\n",
        "No compra (0)\n",
        "\n",
        "Primero veamos como crear una columna nueva en nuestro dataset:"
      ]
    },
    {
      "cell_type": "code",
      "metadata": {
        "id": "7INW0DaOLQzR",
        "colab": {
          "base_uri": "https://localhost:8080/",
          "height": 204
        },
        "outputId": "0543906c-7192-4dcd-98a4-a4c2488d1141"
      },
      "source": [
        "df['Americas'] = 0  # La vamos a rellenar solamente con '0' en un comienzo\n",
        "df.head()"
      ],
      "execution_count": 20,
      "outputs": [
        {
          "output_type": "execute_result",
          "data": {
            "text/html": [
              "<div>\n",
              "<style scoped>\n",
              "    .dataframe tbody tr th:only-of-type {\n",
              "        vertical-align: middle;\n",
              "    }\n",
              "\n",
              "    .dataframe tbody tr th {\n",
              "        vertical-align: top;\n",
              "    }\n",
              "\n",
              "    .dataframe thead th {\n",
              "        text-align: right;\n",
              "    }\n",
              "</style>\n",
              "<table border=\"1\" class=\"dataframe\">\n",
              "  <thead>\n",
              "    <tr style=\"text-align: right;\">\n",
              "      <th></th>\n",
              "      <th>country</th>\n",
              "      <th>region</th>\n",
              "      <th>gdp</th>\n",
              "      <th>school</th>\n",
              "      <th>adfert</th>\n",
              "      <th>chldmort</th>\n",
              "      <th>life</th>\n",
              "      <th>pop</th>\n",
              "      <th>urban</th>\n",
              "      <th>femlab</th>\n",
              "      <th>literacy</th>\n",
              "      <th>co2</th>\n",
              "      <th>gini</th>\n",
              "      <th>Americas</th>\n",
              "    </tr>\n",
              "  </thead>\n",
              "  <tbody>\n",
              "    <tr>\n",
              "      <th>0</th>\n",
              "      <td>Algeria</td>\n",
              "      <td>Africa</td>\n",
              "      <td>7300.399902</td>\n",
              "      <td>6.716667</td>\n",
              "      <td>7.300000</td>\n",
              "      <td>34.75</td>\n",
              "      <td>72.316666</td>\n",
              "      <td>34172236</td>\n",
              "      <td>64.933334</td>\n",
              "      <td>0.4522</td>\n",
              "      <td>72.599998</td>\n",
              "      <td>15.0</td>\n",
              "      <td>NaN</td>\n",
              "      <td>0</td>\n",
              "    </tr>\n",
              "    <tr>\n",
              "      <th>1</th>\n",
              "      <td>Benin</td>\n",
              "      <td>Africa</td>\n",
              "      <td>1338.800049</td>\n",
              "      <td>3.100000</td>\n",
              "      <td>111.699997</td>\n",
              "      <td>122.75</td>\n",
              "      <td>54.733334</td>\n",
              "      <td>8237634</td>\n",
              "      <td>41.000000</td>\n",
              "      <td>0.8482</td>\n",
              "      <td>41.700001</td>\n",
              "      <td>1.2</td>\n",
              "      <td>NaN</td>\n",
              "      <td>0</td>\n",
              "    </tr>\n",
              "    <tr>\n",
              "      <th>2</th>\n",
              "      <td>Botswana</td>\n",
              "      <td>Africa</td>\n",
              "      <td>12307.400391</td>\n",
              "      <td>8.600000</td>\n",
              "      <td>52.099998</td>\n",
              "      <td>60.25</td>\n",
              "      <td>52.250000</td>\n",
              "      <td>1941233</td>\n",
              "      <td>59.250000</td>\n",
              "      <td>0.8870</td>\n",
              "      <td>84.099998</td>\n",
              "      <td>9.2</td>\n",
              "      <td>NaN</td>\n",
              "      <td>0</td>\n",
              "    </tr>\n",
              "    <tr>\n",
              "      <th>3</th>\n",
              "      <td>Burkina Faso</td>\n",
              "      <td>Africa</td>\n",
              "      <td>1063.400024</td>\n",
              "      <td>1.300000</td>\n",
              "      <td>124.800003</td>\n",
              "      <td>170.50</td>\n",
              "      <td>53.783333</td>\n",
              "      <td>15308383</td>\n",
              "      <td>23.583334</td>\n",
              "      <td>0.8584</td>\n",
              "      <td>23.600000</td>\n",
              "      <td>0.2</td>\n",
              "      <td>NaN</td>\n",
              "      <td>0</td>\n",
              "    </tr>\n",
              "    <tr>\n",
              "      <th>4</th>\n",
              "      <td>Burundi</td>\n",
              "      <td>Africa</td>\n",
              "      <td>349.200012</td>\n",
              "      <td>2.483333</td>\n",
              "      <td>18.600000</td>\n",
              "      <td>168.50</td>\n",
              "      <td>48.866665</td>\n",
              "      <td>7821783</td>\n",
              "      <td>10.250000</td>\n",
              "      <td>1.0344</td>\n",
              "      <td>66.599998</td>\n",
              "      <td>0.1</td>\n",
              "      <td>33.299999</td>\n",
              "      <td>0</td>\n",
              "    </tr>\n",
              "  </tbody>\n",
              "</table>\n",
              "</div>"
            ],
            "text/plain": [
              "        country  region           gdp  ...   co2       gini  Americas\n",
              "0       Algeria  Africa   7300.399902  ...  15.0        NaN         0\n",
              "1         Benin  Africa   1338.800049  ...   1.2        NaN         0\n",
              "2      Botswana  Africa  12307.400391  ...   9.2        NaN         0\n",
              "3  Burkina Faso  Africa   1063.400024  ...   0.2        NaN         0\n",
              "4       Burundi  Africa    349.200012  ...   0.1  33.299999         0\n",
              "\n",
              "[5 rows x 14 columns]"
            ]
          },
          "metadata": {
            "tags": []
          },
          "execution_count": 20
        }
      ]
    },
    {
      "cell_type": "markdown",
      "metadata": {
        "id": "pqgqnUkELQzR"
      },
      "source": [
        "## Codificación de variables categóricas\n",
        "\n",
        "Para poder usar columnas categóricas en un modelo, es necesario transformar las etiquetas de las categorias en alguna representación numérica. Existen varias formas de hacer este proceso, algunas básicas son:\n",
        "\n",
        "Sea una variable categórica con $K$ clases distintas:\n",
        "\n",
        "1. **Binary Encoding:** Genera $K-1$ columnas binarias.\n",
        "2. **One-Hot encoding:** Genera $K$ columnas binarias. Cada columna representa la presencia o ausencia de una de las clases.\n",
        "3. **Label Encoding:** Genera $1$ sola columna y asiga un numero entero natural a cada clase.\n",
        "\n",
        "Usaremos One-Hot Encoding, crearemos $5$ columnas, una para cada continente, cuando la columna que representa al continente \"Oceania\" por ejemplo, tome el valor $1$, quiere decir que el correspondiente registro tiene la etiqueta 'Oceania' en su columna de region."
      ]
    },
    {
      "cell_type": "code",
      "metadata": {
        "id": "uYQwunyRLQzS",
        "colab": {
          "base_uri": "https://localhost:8080/"
        },
        "outputId": "894b5822-2cc3-40b3-b494-050200028a90"
      },
      "source": [
        "df['region'].replace(['Africa', 'Asia', 'Europe', 'Americas', 'Oceania'],\n",
        "                                     [1,0,0,0,0])"
      ],
      "execution_count": 21,
      "outputs": [
        {
          "output_type": "execute_result",
          "data": {
            "text/plain": [
              "0      1\n",
              "1      1\n",
              "2      1\n",
              "3      1\n",
              "4      1\n",
              "      ..\n",
              "189    0\n",
              "190    0\n",
              "191    0\n",
              "192    0\n",
              "193    0\n",
              "Name: region, Length: 194, dtype: int64"
            ]
          },
          "metadata": {
            "tags": []
          },
          "execution_count": 21
        }
      ]
    },
    {
      "cell_type": "code",
      "metadata": {
        "id": "SdJp3xFfLQzS"
      },
      "source": [
        "# Rellenando los valores de la columna\n",
        "df['Africa'] = df['region'].replace(['Africa', 'Asia', 'Europe', 'Americas', 'Oceania'],\n",
        "                                     [1,0,0,0,0])\n",
        "\n",
        "df['Asia'] = df['region'].replace(['Africa', 'Asia', 'Europe', 'Americas', 'Oceania'],\n",
        "                                     [0,1,0,0,0])\n",
        "\n",
        "df['Europe'] = df['region'].replace(['Africa', 'Asia', 'Europe', 'Americas', 'Oceania'],\n",
        "                                     [0,0,1,0,0])\n",
        "\n",
        "df['Americas'] = df['region'].replace(['Africa', 'Asia', 'Europe', 'Americas', 'Oceania'],\n",
        "                                     [0,0,0,1,0])\n",
        "\n",
        "df['Oceania'] = df['region'].replace(['Africa', 'Asia', 'Europe', 'Americas', 'Oceania'],\n",
        "                                     [0,0,0,0,1])\n"
      ],
      "execution_count": 23,
      "outputs": []
    },
    {
      "cell_type": "code",
      "metadata": {
        "id": "s9ZRj_RYLQzS",
        "colab": {
          "base_uri": "https://localhost:8080/",
          "height": 224
        },
        "outputId": "b9f430c3-a571-4b3a-e5ba-0a4252071eb3"
      },
      "source": [
        "df.sample(5)"
      ],
      "execution_count": 24,
      "outputs": [
        {
          "output_type": "execute_result",
          "data": {
            "text/html": [
              "<div>\n",
              "<style scoped>\n",
              "    .dataframe tbody tr th:only-of-type {\n",
              "        vertical-align: middle;\n",
              "    }\n",
              "\n",
              "    .dataframe tbody tr th {\n",
              "        vertical-align: top;\n",
              "    }\n",
              "\n",
              "    .dataframe thead th {\n",
              "        text-align: right;\n",
              "    }\n",
              "</style>\n",
              "<table border=\"1\" class=\"dataframe\">\n",
              "  <thead>\n",
              "    <tr style=\"text-align: right;\">\n",
              "      <th></th>\n",
              "      <th>country</th>\n",
              "      <th>region</th>\n",
              "      <th>gdp</th>\n",
              "      <th>school</th>\n",
              "      <th>adfert</th>\n",
              "      <th>chldmort</th>\n",
              "      <th>life</th>\n",
              "      <th>pop</th>\n",
              "      <th>urban</th>\n",
              "      <th>femlab</th>\n",
              "      <th>literacy</th>\n",
              "      <th>co2</th>\n",
              "      <th>gini</th>\n",
              "      <th>Americas</th>\n",
              "      <th>Africa</th>\n",
              "      <th>Asia</th>\n",
              "      <th>Europe</th>\n",
              "      <th>Oceania</th>\n",
              "    </tr>\n",
              "  </thead>\n",
              "  <tbody>\n",
              "    <tr>\n",
              "      <th>179</th>\n",
              "      <td>Angola</td>\n",
              "      <td>Oceania</td>\n",
              "      <td>4662.000000</td>\n",
              "      <td>4.400000</td>\n",
              "      <td>171.100006</td>\n",
              "      <td>170.00</td>\n",
              "      <td>49.666668</td>\n",
              "      <td>17783300</td>\n",
              "      <td>56.250000</td>\n",
              "      <td>0.8380</td>\n",
              "      <td>70.000000</td>\n",
              "      <td>2.250000</td>\n",
              "      <td>NaN</td>\n",
              "      <td>0</td>\n",
              "      <td>0</td>\n",
              "      <td>0</td>\n",
              "      <td>0</td>\n",
              "      <td>1</td>\n",
              "    </tr>\n",
              "    <tr>\n",
              "      <th>86</th>\n",
              "      <td>Venezuela</td>\n",
              "      <td>Americas</td>\n",
              "      <td>10999.000000</td>\n",
              "      <td>7.050000</td>\n",
              "      <td>89.900002</td>\n",
              "      <td>18.75</td>\n",
              "      <td>73.699997</td>\n",
              "      <td>27823916</td>\n",
              "      <td>92.666664</td>\n",
              "      <td>0.6298</td>\n",
              "      <td>NaN</td>\n",
              "      <td>22.000000</td>\n",
              "      <td>43.5</td>\n",
              "      <td>1</td>\n",
              "      <td>0</td>\n",
              "      <td>0</td>\n",
              "      <td>0</td>\n",
              "      <td>0</td>\n",
              "    </tr>\n",
              "    <tr>\n",
              "      <th>148</th>\n",
              "      <td>France</td>\n",
              "      <td>Europe</td>\n",
              "      <td>30162.199219</td>\n",
              "      <td>10.233334</td>\n",
              "      <td>7.200000</td>\n",
              "      <td>4.25</td>\n",
              "      <td>80.883331</td>\n",
              "      <td>61908300</td>\n",
              "      <td>83.500000</td>\n",
              "      <td>0.8104</td>\n",
              "      <td>NaN</td>\n",
              "      <td>23.299999</td>\n",
              "      <td>NaN</td>\n",
              "      <td>0</td>\n",
              "      <td>0</td>\n",
              "      <td>0</td>\n",
              "      <td>1</td>\n",
              "      <td>0</td>\n",
              "    </tr>\n",
              "    <tr>\n",
              "      <th>156</th>\n",
              "      <td>Liechtenstein</td>\n",
              "      <td>Europe</td>\n",
              "      <td>NaN</td>\n",
              "      <td>10.300000</td>\n",
              "      <td>7.000000</td>\n",
              "      <td>2.75</td>\n",
              "      <td>79.199997</td>\n",
              "      <td>35383</td>\n",
              "      <td>14.450000</td>\n",
              "      <td>NaN</td>\n",
              "      <td>NaN</td>\n",
              "      <td>NaN</td>\n",
              "      <td>NaN</td>\n",
              "      <td>0</td>\n",
              "      <td>0</td>\n",
              "      <td>0</td>\n",
              "      <td>1</td>\n",
              "      <td>0</td>\n",
              "    </tr>\n",
              "    <tr>\n",
              "      <th>83</th>\n",
              "      <td>Trinidad/Tobago</td>\n",
              "      <td>Americas</td>\n",
              "      <td>22696.400391</td>\n",
              "      <td>9.033333</td>\n",
              "      <td>34.700001</td>\n",
              "      <td>35.00</td>\n",
              "      <td>69.316666</td>\n",
              "      <td>1328383</td>\n",
              "      <td>13.033333</td>\n",
              "      <td>0.6988</td>\n",
              "      <td>98.699997</td>\n",
              "      <td>89.250000</td>\n",
              "      <td>NaN</td>\n",
              "      <td>1</td>\n",
              "      <td>0</td>\n",
              "      <td>0</td>\n",
              "      <td>0</td>\n",
              "      <td>0</td>\n",
              "    </tr>\n",
              "  </tbody>\n",
              "</table>\n",
              "</div>"
            ],
            "text/plain": [
              "             country    region           gdp  ...  Asia  Europe  Oceania\n",
              "179           Angola   Oceania   4662.000000  ...     0       0        1\n",
              "86         Venezuela  Americas  10999.000000  ...     0       0        0\n",
              "148           France    Europe  30162.199219  ...     0       1        0\n",
              "156    Liechtenstein    Europe           NaN  ...     0       1        0\n",
              "83   Trinidad/Tobago  Americas  22696.400391  ...     0       0        0\n",
              "\n",
              "[5 rows x 18 columns]"
            ]
          },
          "metadata": {
            "tags": []
          },
          "execution_count": 24
        }
      ]
    },
    {
      "cell_type": "markdown",
      "metadata": {
        "id": "RvswPwJbLQzS"
      },
      "source": [
        "Pandas nos ofrece la posibilidad de hacer esto fácilmente con el método 'get_dummies()' que por defecto realiza OneHotEncoding, además, en este método existe un argumento llamado `drop_first`, si ejecutamos el método con `drop_first = True` 'get_dummies()' realizará BinaryEncoding."
      ]
    },
    {
      "cell_type": "code",
      "metadata": {
        "id": "8tcWiYUsLQzS",
        "colab": {
          "base_uri": "https://localhost:8080/",
          "height": 419
        },
        "outputId": "97b63f9f-75dd-45de-98bc-953987cb4149"
      },
      "source": [
        "pd.get_dummies(df['region'])"
      ],
      "execution_count": 25,
      "outputs": [
        {
          "output_type": "execute_result",
          "data": {
            "text/html": [
              "<div>\n",
              "<style scoped>\n",
              "    .dataframe tbody tr th:only-of-type {\n",
              "        vertical-align: middle;\n",
              "    }\n",
              "\n",
              "    .dataframe tbody tr th {\n",
              "        vertical-align: top;\n",
              "    }\n",
              "\n",
              "    .dataframe thead th {\n",
              "        text-align: right;\n",
              "    }\n",
              "</style>\n",
              "<table border=\"1\" class=\"dataframe\">\n",
              "  <thead>\n",
              "    <tr style=\"text-align: right;\">\n",
              "      <th></th>\n",
              "      <th>Africa</th>\n",
              "      <th>Americas</th>\n",
              "      <th>Asia</th>\n",
              "      <th>Europe</th>\n",
              "      <th>Oceania</th>\n",
              "    </tr>\n",
              "  </thead>\n",
              "  <tbody>\n",
              "    <tr>\n",
              "      <th>0</th>\n",
              "      <td>1</td>\n",
              "      <td>0</td>\n",
              "      <td>0</td>\n",
              "      <td>0</td>\n",
              "      <td>0</td>\n",
              "    </tr>\n",
              "    <tr>\n",
              "      <th>1</th>\n",
              "      <td>1</td>\n",
              "      <td>0</td>\n",
              "      <td>0</td>\n",
              "      <td>0</td>\n",
              "      <td>0</td>\n",
              "    </tr>\n",
              "    <tr>\n",
              "      <th>2</th>\n",
              "      <td>1</td>\n",
              "      <td>0</td>\n",
              "      <td>0</td>\n",
              "      <td>0</td>\n",
              "      <td>0</td>\n",
              "    </tr>\n",
              "    <tr>\n",
              "      <th>3</th>\n",
              "      <td>1</td>\n",
              "      <td>0</td>\n",
              "      <td>0</td>\n",
              "      <td>0</td>\n",
              "      <td>0</td>\n",
              "    </tr>\n",
              "    <tr>\n",
              "      <th>4</th>\n",
              "      <td>1</td>\n",
              "      <td>0</td>\n",
              "      <td>0</td>\n",
              "      <td>0</td>\n",
              "      <td>0</td>\n",
              "    </tr>\n",
              "    <tr>\n",
              "      <th>...</th>\n",
              "      <td>...</td>\n",
              "      <td>...</td>\n",
              "      <td>...</td>\n",
              "      <td>...</td>\n",
              "      <td>...</td>\n",
              "    </tr>\n",
              "    <tr>\n",
              "      <th>189</th>\n",
              "      <td>0</td>\n",
              "      <td>0</td>\n",
              "      <td>0</td>\n",
              "      <td>0</td>\n",
              "      <td>1</td>\n",
              "    </tr>\n",
              "    <tr>\n",
              "      <th>190</th>\n",
              "      <td>0</td>\n",
              "      <td>0</td>\n",
              "      <td>0</td>\n",
              "      <td>0</td>\n",
              "      <td>1</td>\n",
              "    </tr>\n",
              "    <tr>\n",
              "      <th>191</th>\n",
              "      <td>0</td>\n",
              "      <td>0</td>\n",
              "      <td>0</td>\n",
              "      <td>0</td>\n",
              "      <td>1</td>\n",
              "    </tr>\n",
              "    <tr>\n",
              "      <th>192</th>\n",
              "      <td>0</td>\n",
              "      <td>0</td>\n",
              "      <td>0</td>\n",
              "      <td>0</td>\n",
              "      <td>1</td>\n",
              "    </tr>\n",
              "    <tr>\n",
              "      <th>193</th>\n",
              "      <td>0</td>\n",
              "      <td>0</td>\n",
              "      <td>0</td>\n",
              "      <td>0</td>\n",
              "      <td>1</td>\n",
              "    </tr>\n",
              "  </tbody>\n",
              "</table>\n",
              "<p>194 rows × 5 columns</p>\n",
              "</div>"
            ],
            "text/plain": [
              "     Africa  Americas  Asia  Europe  Oceania\n",
              "0         1         0     0       0        0\n",
              "1         1         0     0       0        0\n",
              "2         1         0     0       0        0\n",
              "3         1         0     0       0        0\n",
              "4         1         0     0       0        0\n",
              "..      ...       ...   ...     ...      ...\n",
              "189       0         0     0       0        1\n",
              "190       0         0     0       0        1\n",
              "191       0         0     0       0        1\n",
              "192       0         0     0       0        1\n",
              "193       0         0     0       0        1\n",
              "\n",
              "[194 rows x 5 columns]"
            ]
          },
          "metadata": {
            "tags": []
          },
          "execution_count": 25
        }
      ]
    },
    {
      "cell_type": "markdown",
      "metadata": {
        "id": "Nmge1F54LQzS"
      },
      "source": [
        "Siguiendo con las recodificaciones, veamos como cambiar la granularidad de una variable, para esto, veamos que podemos crear una máscara booleana a partir de una condición sobre el dataframe:"
      ]
    },
    {
      "cell_type": "code",
      "metadata": {
        "id": "tyEo_4aJLQzS",
        "colab": {
          "base_uri": "https://localhost:8080/"
        },
        "outputId": "64f10263-1bd8-406d-b1a0-fbd30b25c843"
      },
      "source": [
        "df['co2'] > df['co2'].mean()"
      ],
      "execution_count": 26,
      "outputs": [
        {
          "output_type": "execute_result",
          "data": {
            "text/plain": [
              "0      False\n",
              "1      False\n",
              "2      False\n",
              "3      False\n",
              "4      False\n",
              "       ...  \n",
              "189    False\n",
              "190    False\n",
              "191    False\n",
              "192    False\n",
              "193    False\n",
              "Name: co2, Length: 194, dtype: bool"
            ]
          },
          "metadata": {
            "tags": []
          },
          "execution_count": 26
        }
      ]
    },
    {
      "cell_type": "markdown",
      "metadata": {
        "id": "-L2UaCdvLQzS"
      },
      "source": [
        "Podemos hacer lo mismo con el método `np.where`, pero además este método nos permite decidir qué va a estar en el lugar de aquellas filas que __cumplan__ la condición y qué va a estar en el lugar de las filas que __no cumplan__ la condición."
      ]
    },
    {
      "cell_type": "code",
      "metadata": {
        "id": "ap-wjr6MLQzT",
        "colab": {
          "base_uri": "https://localhost:8080/"
        },
        "outputId": "132af64f-9217-4a06-b5e1-693cd52865ba"
      },
      "source": [
        "np.where(df['co2'] > df['co2'].mean(), 1, 0)"
      ],
      "execution_count": 27,
      "outputs": [
        {
          "output_type": "execute_result",
          "data": {
            "text/plain": [
              "array([0, 0, 0, 0, 0, 0, 0, 0, 0, 0, 0, 0, 0, 0, 0, 1, 0, 0, 0, 0, 0, 0,\n",
              "       0, 0, 0, 0, 1, 0, 0, 0, 0, 0, 0, 0, 0, 0, 0, 0, 0, 0, 1, 0, 0, 1,\n",
              "       0, 0, 0, 0, 0, 0, 0, 0, 1, 0, 1, 0, 0, 0, 0, 1, 0, 0, 0, 0, 0, 0,\n",
              "       0, 0, 0, 0, 0, 0, 0, 0, 0, 0, 0, 0, 0, 0, 0, 0, 1, 1, 1, 0, 1, 0,\n",
              "       0, 0, 1, 0, 0, 1, 0, 0, 1, 0, 1, 0, 0, 1, 0, 1, 1, 0, 1, 1, 0, 0,\n",
              "       0, 1, 0, 0, 0, 0, 0, 1, 0, 0, 0, 1, 1, 1, 1, 0, 0, 0, 0, 0, 0, 1,\n",
              "       1, 0, 0, 0, 0, 0, 1, 1, 1, 1, 1, 1, 1, 1, 1, 1, 1, 1, 1, 1, 1, 1,\n",
              "       1, 0, 0, 0, 1, 1, 1, 0, 0, 0, 1, 1, 1, 1, 0, 1, 0, 0, 1, 1, 1, 1,\n",
              "       1, 1, 1, 0, 1, 0, 0, 0, 0, 1, 1, 1, 0, 0, 0, 0, 0, 0])"
            ]
          },
          "metadata": {
            "tags": []
          },
          "execution_count": 27
        }
      ]
    },
    {
      "cell_type": "code",
      "metadata": {
        "id": "XUVZsgC4LQzT",
        "colab": {
          "base_uri": "https://localhost:8080/"
        },
        "outputId": "ffb1c280-2caf-430a-e24a-4fc082501041"
      },
      "source": [
        "df['co2_dummy'] = np.where(df['co2'] > df['co2'].mean(), 1, 0)\n",
        "df['co2_dummy'].value_counts()"
      ],
      "execution_count": 28,
      "outputs": [
        {
          "output_type": "execute_result",
          "data": {
            "text/plain": [
              "0    130\n",
              "1     64\n",
              "Name: co2_dummy, dtype: int64"
            ]
          },
          "metadata": {
            "tags": []
          },
          "execution_count": 28
        }
      ]
    },
    {
      "cell_type": "markdown",
      "metadata": {
        "id": "ZcCO85WyLQzT"
      },
      "source": [
        "**Pregunta 3:** Cuantos paises tienen índices de `co2` mayores a la media?"
      ]
    },
    {
      "cell_type": "code",
      "metadata": {
        "id": "FQFs3MVpLQzT",
        "colab": {
          "base_uri": "https://localhost:8080/",
          "height": 541
        },
        "outputId": "63e091e9-7a99-4f62-9578-35983632883d"
      },
      "source": [
        "df[df['co2_dummy'] == 1]"
      ],
      "execution_count": 29,
      "outputs": [
        {
          "output_type": "execute_result",
          "data": {
            "text/html": [
              "<div>\n",
              "<style scoped>\n",
              "    .dataframe tbody tr th:only-of-type {\n",
              "        vertical-align: middle;\n",
              "    }\n",
              "\n",
              "    .dataframe tbody tr th {\n",
              "        vertical-align: top;\n",
              "    }\n",
              "\n",
              "    .dataframe thead th {\n",
              "        text-align: right;\n",
              "    }\n",
              "</style>\n",
              "<table border=\"1\" class=\"dataframe\">\n",
              "  <thead>\n",
              "    <tr style=\"text-align: right;\">\n",
              "      <th></th>\n",
              "      <th>country</th>\n",
              "      <th>region</th>\n",
              "      <th>gdp</th>\n",
              "      <th>school</th>\n",
              "      <th>adfert</th>\n",
              "      <th>chldmort</th>\n",
              "      <th>life</th>\n",
              "      <th>pop</th>\n",
              "      <th>urban</th>\n",
              "      <th>femlab</th>\n",
              "      <th>literacy</th>\n",
              "      <th>co2</th>\n",
              "      <th>gini</th>\n",
              "      <th>Americas</th>\n",
              "      <th>Africa</th>\n",
              "      <th>Asia</th>\n",
              "      <th>Europe</th>\n",
              "      <th>Oceania</th>\n",
              "      <th>co2_dummy</th>\n",
              "    </tr>\n",
              "  </thead>\n",
              "  <tbody>\n",
              "    <tr>\n",
              "      <th>15</th>\n",
              "      <td>Equatorial Guinea</td>\n",
              "      <td>Africa</td>\n",
              "      <td>27645.800781</td>\n",
              "      <td>5.400000</td>\n",
              "      <td>122.900002</td>\n",
              "      <td>149.50</td>\n",
              "      <td>50.066666</td>\n",
              "      <td>653533</td>\n",
              "      <td>39.266666</td>\n",
              "      <td>0.4140</td>\n",
              "      <td>93.300003</td>\n",
              "      <td>32.550003</td>\n",
              "      <td>NaN</td>\n",
              "      <td>0</td>\n",
              "      <td>1</td>\n",
              "      <td>0</td>\n",
              "      <td>0</td>\n",
              "      <td>0</td>\n",
              "      <td>1</td>\n",
              "    </tr>\n",
              "    <tr>\n",
              "      <th>26</th>\n",
              "      <td>Libya</td>\n",
              "      <td>Africa</td>\n",
              "      <td>14497.799805</td>\n",
              "      <td>6.816667</td>\n",
              "      <td>3.200000</td>\n",
              "      <td>19.75</td>\n",
              "      <td>74.016663</td>\n",
              "      <td>6075651</td>\n",
              "      <td>77.433334</td>\n",
              "      <td>0.3096</td>\n",
              "      <td>88.900002</td>\n",
              "      <td>33.849998</td>\n",
              "      <td>NaN</td>\n",
              "      <td>0</td>\n",
              "      <td>1</td>\n",
              "      <td>0</td>\n",
              "      <td>0</td>\n",
              "      <td>0</td>\n",
              "      <td>1</td>\n",
              "    </tr>\n",
              "    <tr>\n",
              "      <th>40</th>\n",
              "      <td>Seychelles</td>\n",
              "      <td>Africa</td>\n",
              "      <td>18625.800781</td>\n",
              "      <td>9.400000</td>\n",
              "      <td>51.299999</td>\n",
              "      <td>12.75</td>\n",
              "      <td>72.983330</td>\n",
              "      <td>85167</td>\n",
              "      <td>54.066666</td>\n",
              "      <td>NaN</td>\n",
              "      <td>91.800003</td>\n",
              "      <td>30.799999</td>\n",
              "      <td>19.0</td>\n",
              "      <td>0</td>\n",
              "      <td>1</td>\n",
              "      <td>0</td>\n",
              "      <td>0</td>\n",
              "      <td>0</td>\n",
              "      <td>1</td>\n",
              "    </tr>\n",
              "    <tr>\n",
              "      <th>43</th>\n",
              "      <td>South Africa</td>\n",
              "      <td>Africa</td>\n",
              "      <td>9175.400391</td>\n",
              "      <td>8.350000</td>\n",
              "      <td>59.200001</td>\n",
              "      <td>68.75</td>\n",
              "      <td>51.433334</td>\n",
              "      <td>49028316</td>\n",
              "      <td>60.483334</td>\n",
              "      <td>0.7406</td>\n",
              "      <td>NaN</td>\n",
              "      <td>31.400000</td>\n",
              "      <td>NaN</td>\n",
              "      <td>0</td>\n",
              "      <td>1</td>\n",
              "      <td>0</td>\n",
              "      <td>0</td>\n",
              "      <td>0</td>\n",
              "      <td>1</td>\n",
              "    </tr>\n",
              "    <tr>\n",
              "      <th>52</th>\n",
              "      <td>Antigua and Barbuda</td>\n",
              "      <td>Americas</td>\n",
              "      <td>17676.400391</td>\n",
              "      <td>8.900000</td>\n",
              "      <td>55.500000</td>\n",
              "      <td>13.00</td>\n",
              "      <td>72.166664</td>\n",
              "      <td>86367</td>\n",
              "      <td>30.466667</td>\n",
              "      <td>NaN</td>\n",
              "      <td>99.000000</td>\n",
              "      <td>18.299999</td>\n",
              "      <td>NaN</td>\n",
              "      <td>1</td>\n",
              "      <td>0</td>\n",
              "      <td>0</td>\n",
              "      <td>0</td>\n",
              "      <td>0</td>\n",
              "      <td>1</td>\n",
              "    </tr>\n",
              "    <tr>\n",
              "      <th>...</th>\n",
              "      <td>...</td>\n",
              "      <td>...</td>\n",
              "      <td>...</td>\n",
              "      <td>...</td>\n",
              "      <td>...</td>\n",
              "      <td>...</td>\n",
              "      <td>...</td>\n",
              "      <td>...</td>\n",
              "      <td>...</td>\n",
              "      <td>...</td>\n",
              "      <td>...</td>\n",
              "      <td>...</td>\n",
              "      <td>...</td>\n",
              "      <td>...</td>\n",
              "      <td>...</td>\n",
              "      <td>...</td>\n",
              "      <td>...</td>\n",
              "      <td>...</td>\n",
              "      <td>...</td>\n",
              "    </tr>\n",
              "    <tr>\n",
              "      <th>178</th>\n",
              "      <td>United Kingdom</td>\n",
              "      <td>Europe</td>\n",
              "      <td>33295.800781</td>\n",
              "      <td>9.066667</td>\n",
              "      <td>29.600000</td>\n",
              "      <td>6.00</td>\n",
              "      <td>79.550003</td>\n",
              "      <td>61099184</td>\n",
              "      <td>79.316666</td>\n",
              "      <td>0.7916</td>\n",
              "      <td>NaN</td>\n",
              "      <td>34.099998</td>\n",
              "      <td>NaN</td>\n",
              "      <td>0</td>\n",
              "      <td>0</td>\n",
              "      <td>0</td>\n",
              "      <td>1</td>\n",
              "      <td>0</td>\n",
              "      <td>1</td>\n",
              "    </tr>\n",
              "    <tr>\n",
              "      <th>180</th>\n",
              "      <td>Australia</td>\n",
              "      <td>Oceania</td>\n",
              "      <td>33707.199219</td>\n",
              "      <td>11.983334</td>\n",
              "      <td>16.500000</td>\n",
              "      <td>5.25</td>\n",
              "      <td>81.400002</td>\n",
              "      <td>21325382</td>\n",
              "      <td>88.666664</td>\n",
              "      <td>0.7994</td>\n",
              "      <td>NaN</td>\n",
              "      <td>66.199997</td>\n",
              "      <td>NaN</td>\n",
              "      <td>0</td>\n",
              "      <td>0</td>\n",
              "      <td>0</td>\n",
              "      <td>0</td>\n",
              "      <td>1</td>\n",
              "      <td>1</td>\n",
              "    </tr>\n",
              "    <tr>\n",
              "      <th>185</th>\n",
              "      <td>Nauru</td>\n",
              "      <td>Oceania</td>\n",
              "      <td>NaN</td>\n",
              "      <td>NaN</td>\n",
              "      <td>31.200001</td>\n",
              "      <td>45.50</td>\n",
              "      <td>79.466667</td>\n",
              "      <td>10183</td>\n",
              "      <td>100.000000</td>\n",
              "      <td>NaN</td>\n",
              "      <td>NaN</td>\n",
              "      <td>51.849998</td>\n",
              "      <td>NaN</td>\n",
              "      <td>0</td>\n",
              "      <td>0</td>\n",
              "      <td>0</td>\n",
              "      <td>0</td>\n",
              "      <td>1</td>\n",
              "      <td>1</td>\n",
              "    </tr>\n",
              "    <tr>\n",
              "      <th>186</th>\n",
              "      <td>New Zealand</td>\n",
              "      <td>Oceania</td>\n",
              "      <td>25199.599609</td>\n",
              "      <td>12.366667</td>\n",
              "      <td>30.900000</td>\n",
              "      <td>6.25</td>\n",
              "      <td>80.083336</td>\n",
              "      <td>4253334</td>\n",
              "      <td>86.133331</td>\n",
              "      <td>0.8118</td>\n",
              "      <td>NaN</td>\n",
              "      <td>26.950001</td>\n",
              "      <td>NaN</td>\n",
              "      <td>0</td>\n",
              "      <td>0</td>\n",
              "      <td>0</td>\n",
              "      <td>0</td>\n",
              "      <td>1</td>\n",
              "      <td>1</td>\n",
              "    </tr>\n",
              "    <tr>\n",
              "      <th>187</th>\n",
              "      <td>Palau</td>\n",
              "      <td>Oceania</td>\n",
              "      <td>NaN</td>\n",
              "      <td>12.100000</td>\n",
              "      <td>13.800000</td>\n",
              "      <td>15.00</td>\n",
              "      <td>70.666664</td>\n",
              "      <td>20167</td>\n",
              "      <td>80.683334</td>\n",
              "      <td>NaN</td>\n",
              "      <td>NaN</td>\n",
              "      <td>21.349998</td>\n",
              "      <td>NaN</td>\n",
              "      <td>0</td>\n",
              "      <td>0</td>\n",
              "      <td>0</td>\n",
              "      <td>0</td>\n",
              "      <td>1</td>\n",
              "      <td>1</td>\n",
              "    </tr>\n",
              "  </tbody>\n",
              "</table>\n",
              "<p>64 rows × 19 columns</p>\n",
              "</div>"
            ],
            "text/plain": [
              "                 country    region           gdp  ...  Europe  Oceania  co2_dummy\n",
              "15     Equatorial Guinea    Africa  27645.800781  ...       0        0          1\n",
              "26                 Libya    Africa  14497.799805  ...       0        0          1\n",
              "40            Seychelles    Africa  18625.800781  ...       0        0          1\n",
              "43          South Africa    Africa   9175.400391  ...       0        0          1\n",
              "52   Antigua and Barbuda  Americas  17676.400391  ...       0        0          1\n",
              "..                   ...       ...           ...  ...     ...      ...        ...\n",
              "178       United Kingdom    Europe  33295.800781  ...       1        0          1\n",
              "180            Australia   Oceania  33707.199219  ...       0        1          1\n",
              "185                Nauru   Oceania           NaN  ...       0        1          1\n",
              "186          New Zealand   Oceania  25199.599609  ...       0        1          1\n",
              "187                Palau   Oceania           NaN  ...       0        1          1\n",
              "\n",
              "[64 rows x 19 columns]"
            ]
          },
          "metadata": {
            "tags": []
          },
          "execution_count": 29
        }
      ]
    },
    {
      "cell_type": "code",
      "metadata": {
        "id": "sT4e-C8GLQzT",
        "colab": {
          "base_uri": "https://localhost:8080/",
          "height": 541
        },
        "outputId": "afdd2626-4611-466e-a91d-d87f668505c3"
      },
      "source": [
        "df[df['co2'] > df['co2'].mean()]"
      ],
      "execution_count": 30,
      "outputs": [
        {
          "output_type": "execute_result",
          "data": {
            "text/html": [
              "<div>\n",
              "<style scoped>\n",
              "    .dataframe tbody tr th:only-of-type {\n",
              "        vertical-align: middle;\n",
              "    }\n",
              "\n",
              "    .dataframe tbody tr th {\n",
              "        vertical-align: top;\n",
              "    }\n",
              "\n",
              "    .dataframe thead th {\n",
              "        text-align: right;\n",
              "    }\n",
              "</style>\n",
              "<table border=\"1\" class=\"dataframe\">\n",
              "  <thead>\n",
              "    <tr style=\"text-align: right;\">\n",
              "      <th></th>\n",
              "      <th>country</th>\n",
              "      <th>region</th>\n",
              "      <th>gdp</th>\n",
              "      <th>school</th>\n",
              "      <th>adfert</th>\n",
              "      <th>chldmort</th>\n",
              "      <th>life</th>\n",
              "      <th>pop</th>\n",
              "      <th>urban</th>\n",
              "      <th>femlab</th>\n",
              "      <th>literacy</th>\n",
              "      <th>co2</th>\n",
              "      <th>gini</th>\n",
              "      <th>Americas</th>\n",
              "      <th>Africa</th>\n",
              "      <th>Asia</th>\n",
              "      <th>Europe</th>\n",
              "      <th>Oceania</th>\n",
              "      <th>co2_dummy</th>\n",
              "    </tr>\n",
              "  </thead>\n",
              "  <tbody>\n",
              "    <tr>\n",
              "      <th>15</th>\n",
              "      <td>Equatorial Guinea</td>\n",
              "      <td>Africa</td>\n",
              "      <td>27645.800781</td>\n",
              "      <td>5.400000</td>\n",
              "      <td>122.900002</td>\n",
              "      <td>149.50</td>\n",
              "      <td>50.066666</td>\n",
              "      <td>653533</td>\n",
              "      <td>39.266666</td>\n",
              "      <td>0.4140</td>\n",
              "      <td>93.300003</td>\n",
              "      <td>32.550003</td>\n",
              "      <td>NaN</td>\n",
              "      <td>0</td>\n",
              "      <td>1</td>\n",
              "      <td>0</td>\n",
              "      <td>0</td>\n",
              "      <td>0</td>\n",
              "      <td>1</td>\n",
              "    </tr>\n",
              "    <tr>\n",
              "      <th>26</th>\n",
              "      <td>Libya</td>\n",
              "      <td>Africa</td>\n",
              "      <td>14497.799805</td>\n",
              "      <td>6.816667</td>\n",
              "      <td>3.200000</td>\n",
              "      <td>19.75</td>\n",
              "      <td>74.016663</td>\n",
              "      <td>6075651</td>\n",
              "      <td>77.433334</td>\n",
              "      <td>0.3096</td>\n",
              "      <td>88.900002</td>\n",
              "      <td>33.849998</td>\n",
              "      <td>NaN</td>\n",
              "      <td>0</td>\n",
              "      <td>1</td>\n",
              "      <td>0</td>\n",
              "      <td>0</td>\n",
              "      <td>0</td>\n",
              "      <td>1</td>\n",
              "    </tr>\n",
              "    <tr>\n",
              "      <th>40</th>\n",
              "      <td>Seychelles</td>\n",
              "      <td>Africa</td>\n",
              "      <td>18625.800781</td>\n",
              "      <td>9.400000</td>\n",
              "      <td>51.299999</td>\n",
              "      <td>12.75</td>\n",
              "      <td>72.983330</td>\n",
              "      <td>85167</td>\n",
              "      <td>54.066666</td>\n",
              "      <td>NaN</td>\n",
              "      <td>91.800003</td>\n",
              "      <td>30.799999</td>\n",
              "      <td>19.0</td>\n",
              "      <td>0</td>\n",
              "      <td>1</td>\n",
              "      <td>0</td>\n",
              "      <td>0</td>\n",
              "      <td>0</td>\n",
              "      <td>1</td>\n",
              "    </tr>\n",
              "    <tr>\n",
              "      <th>43</th>\n",
              "      <td>South Africa</td>\n",
              "      <td>Africa</td>\n",
              "      <td>9175.400391</td>\n",
              "      <td>8.350000</td>\n",
              "      <td>59.200001</td>\n",
              "      <td>68.75</td>\n",
              "      <td>51.433334</td>\n",
              "      <td>49028316</td>\n",
              "      <td>60.483334</td>\n",
              "      <td>0.7406</td>\n",
              "      <td>NaN</td>\n",
              "      <td>31.400000</td>\n",
              "      <td>NaN</td>\n",
              "      <td>0</td>\n",
              "      <td>1</td>\n",
              "      <td>0</td>\n",
              "      <td>0</td>\n",
              "      <td>0</td>\n",
              "      <td>1</td>\n",
              "    </tr>\n",
              "    <tr>\n",
              "      <th>52</th>\n",
              "      <td>Antigua and Barbuda</td>\n",
              "      <td>Americas</td>\n",
              "      <td>17676.400391</td>\n",
              "      <td>8.900000</td>\n",
              "      <td>55.500000</td>\n",
              "      <td>13.00</td>\n",
              "      <td>72.166664</td>\n",
              "      <td>86367</td>\n",
              "      <td>30.466667</td>\n",
              "      <td>NaN</td>\n",
              "      <td>99.000000</td>\n",
              "      <td>18.299999</td>\n",
              "      <td>NaN</td>\n",
              "      <td>1</td>\n",
              "      <td>0</td>\n",
              "      <td>0</td>\n",
              "      <td>0</td>\n",
              "      <td>0</td>\n",
              "      <td>1</td>\n",
              "    </tr>\n",
              "    <tr>\n",
              "      <th>...</th>\n",
              "      <td>...</td>\n",
              "      <td>...</td>\n",
              "      <td>...</td>\n",
              "      <td>...</td>\n",
              "      <td>...</td>\n",
              "      <td>...</td>\n",
              "      <td>...</td>\n",
              "      <td>...</td>\n",
              "      <td>...</td>\n",
              "      <td>...</td>\n",
              "      <td>...</td>\n",
              "      <td>...</td>\n",
              "      <td>...</td>\n",
              "      <td>...</td>\n",
              "      <td>...</td>\n",
              "      <td>...</td>\n",
              "      <td>...</td>\n",
              "      <td>...</td>\n",
              "      <td>...</td>\n",
              "    </tr>\n",
              "    <tr>\n",
              "      <th>178</th>\n",
              "      <td>United Kingdom</td>\n",
              "      <td>Europe</td>\n",
              "      <td>33295.800781</td>\n",
              "      <td>9.066667</td>\n",
              "      <td>29.600000</td>\n",
              "      <td>6.00</td>\n",
              "      <td>79.550003</td>\n",
              "      <td>61099184</td>\n",
              "      <td>79.316666</td>\n",
              "      <td>0.7916</td>\n",
              "      <td>NaN</td>\n",
              "      <td>34.099998</td>\n",
              "      <td>NaN</td>\n",
              "      <td>0</td>\n",
              "      <td>0</td>\n",
              "      <td>0</td>\n",
              "      <td>1</td>\n",
              "      <td>0</td>\n",
              "      <td>1</td>\n",
              "    </tr>\n",
              "    <tr>\n",
              "      <th>180</th>\n",
              "      <td>Australia</td>\n",
              "      <td>Oceania</td>\n",
              "      <td>33707.199219</td>\n",
              "      <td>11.983334</td>\n",
              "      <td>16.500000</td>\n",
              "      <td>5.25</td>\n",
              "      <td>81.400002</td>\n",
              "      <td>21325382</td>\n",
              "      <td>88.666664</td>\n",
              "      <td>0.7994</td>\n",
              "      <td>NaN</td>\n",
              "      <td>66.199997</td>\n",
              "      <td>NaN</td>\n",
              "      <td>0</td>\n",
              "      <td>0</td>\n",
              "      <td>0</td>\n",
              "      <td>0</td>\n",
              "      <td>1</td>\n",
              "      <td>1</td>\n",
              "    </tr>\n",
              "    <tr>\n",
              "      <th>185</th>\n",
              "      <td>Nauru</td>\n",
              "      <td>Oceania</td>\n",
              "      <td>NaN</td>\n",
              "      <td>NaN</td>\n",
              "      <td>31.200001</td>\n",
              "      <td>45.50</td>\n",
              "      <td>79.466667</td>\n",
              "      <td>10183</td>\n",
              "      <td>100.000000</td>\n",
              "      <td>NaN</td>\n",
              "      <td>NaN</td>\n",
              "      <td>51.849998</td>\n",
              "      <td>NaN</td>\n",
              "      <td>0</td>\n",
              "      <td>0</td>\n",
              "      <td>0</td>\n",
              "      <td>0</td>\n",
              "      <td>1</td>\n",
              "      <td>1</td>\n",
              "    </tr>\n",
              "    <tr>\n",
              "      <th>186</th>\n",
              "      <td>New Zealand</td>\n",
              "      <td>Oceania</td>\n",
              "      <td>25199.599609</td>\n",
              "      <td>12.366667</td>\n",
              "      <td>30.900000</td>\n",
              "      <td>6.25</td>\n",
              "      <td>80.083336</td>\n",
              "      <td>4253334</td>\n",
              "      <td>86.133331</td>\n",
              "      <td>0.8118</td>\n",
              "      <td>NaN</td>\n",
              "      <td>26.950001</td>\n",
              "      <td>NaN</td>\n",
              "      <td>0</td>\n",
              "      <td>0</td>\n",
              "      <td>0</td>\n",
              "      <td>0</td>\n",
              "      <td>1</td>\n",
              "      <td>1</td>\n",
              "    </tr>\n",
              "    <tr>\n",
              "      <th>187</th>\n",
              "      <td>Palau</td>\n",
              "      <td>Oceania</td>\n",
              "      <td>NaN</td>\n",
              "      <td>12.100000</td>\n",
              "      <td>13.800000</td>\n",
              "      <td>15.00</td>\n",
              "      <td>70.666664</td>\n",
              "      <td>20167</td>\n",
              "      <td>80.683334</td>\n",
              "      <td>NaN</td>\n",
              "      <td>NaN</td>\n",
              "      <td>21.349998</td>\n",
              "      <td>NaN</td>\n",
              "      <td>0</td>\n",
              "      <td>0</td>\n",
              "      <td>0</td>\n",
              "      <td>0</td>\n",
              "      <td>1</td>\n",
              "      <td>1</td>\n",
              "    </tr>\n",
              "  </tbody>\n",
              "</table>\n",
              "<p>64 rows × 19 columns</p>\n",
              "</div>"
            ],
            "text/plain": [
              "                 country    region           gdp  ...  Europe  Oceania  co2_dummy\n",
              "15     Equatorial Guinea    Africa  27645.800781  ...       0        0          1\n",
              "26                 Libya    Africa  14497.799805  ...       0        0          1\n",
              "40            Seychelles    Africa  18625.800781  ...       0        0          1\n",
              "43          South Africa    Africa   9175.400391  ...       0        0          1\n",
              "52   Antigua and Barbuda  Americas  17676.400391  ...       0        0          1\n",
              "..                   ...       ...           ...  ...     ...      ...        ...\n",
              "178       United Kingdom    Europe  33295.800781  ...       1        0          1\n",
              "180            Australia   Oceania  33707.199219  ...       0        1          1\n",
              "185                Nauru   Oceania           NaN  ...       0        1          1\n",
              "186          New Zealand   Oceania  25199.599609  ...       0        1          1\n",
              "187                Palau   Oceania           NaN  ...       0        1          1\n",
              "\n",
              "[64 rows x 19 columns]"
            ]
          },
          "metadata": {
            "tags": []
          },
          "execution_count": 30
        }
      ]
    },
    {
      "cell_type": "markdown",
      "metadata": {
        "id": "qwRrSSK6LQzT"
      },
      "source": [
        "Este sub-dataframe lo podemos guardar en una variable nueva:"
      ]
    },
    {
      "cell_type": "code",
      "metadata": {
        "id": "VunlhIF7LQzT"
      },
      "source": [
        "df_co2 = df[df['co2'] > df['co2'].mean()]"
      ],
      "execution_count": 31,
      "outputs": []
    },
    {
      "cell_type": "code",
      "metadata": {
        "id": "T93nKkRF66BW",
        "colab": {
          "base_uri": "https://localhost:8080/",
          "height": 541
        },
        "outputId": "aa6df9f0-8f08-435e-f8e0-8d2e36f3defe"
      },
      "source": [
        "df_co2"
      ],
      "execution_count": 32,
      "outputs": [
        {
          "output_type": "execute_result",
          "data": {
            "text/html": [
              "<div>\n",
              "<style scoped>\n",
              "    .dataframe tbody tr th:only-of-type {\n",
              "        vertical-align: middle;\n",
              "    }\n",
              "\n",
              "    .dataframe tbody tr th {\n",
              "        vertical-align: top;\n",
              "    }\n",
              "\n",
              "    .dataframe thead th {\n",
              "        text-align: right;\n",
              "    }\n",
              "</style>\n",
              "<table border=\"1\" class=\"dataframe\">\n",
              "  <thead>\n",
              "    <tr style=\"text-align: right;\">\n",
              "      <th></th>\n",
              "      <th>country</th>\n",
              "      <th>region</th>\n",
              "      <th>gdp</th>\n",
              "      <th>school</th>\n",
              "      <th>adfert</th>\n",
              "      <th>chldmort</th>\n",
              "      <th>life</th>\n",
              "      <th>pop</th>\n",
              "      <th>urban</th>\n",
              "      <th>femlab</th>\n",
              "      <th>literacy</th>\n",
              "      <th>co2</th>\n",
              "      <th>gini</th>\n",
              "      <th>Americas</th>\n",
              "      <th>Africa</th>\n",
              "      <th>Asia</th>\n",
              "      <th>Europe</th>\n",
              "      <th>Oceania</th>\n",
              "      <th>co2_dummy</th>\n",
              "    </tr>\n",
              "  </thead>\n",
              "  <tbody>\n",
              "    <tr>\n",
              "      <th>15</th>\n",
              "      <td>Equatorial Guinea</td>\n",
              "      <td>Africa</td>\n",
              "      <td>27645.800781</td>\n",
              "      <td>5.400000</td>\n",
              "      <td>122.900002</td>\n",
              "      <td>149.50</td>\n",
              "      <td>50.066666</td>\n",
              "      <td>653533</td>\n",
              "      <td>39.266666</td>\n",
              "      <td>0.4140</td>\n",
              "      <td>93.300003</td>\n",
              "      <td>32.550003</td>\n",
              "      <td>NaN</td>\n",
              "      <td>0</td>\n",
              "      <td>1</td>\n",
              "      <td>0</td>\n",
              "      <td>0</td>\n",
              "      <td>0</td>\n",
              "      <td>1</td>\n",
              "    </tr>\n",
              "    <tr>\n",
              "      <th>26</th>\n",
              "      <td>Libya</td>\n",
              "      <td>Africa</td>\n",
              "      <td>14497.799805</td>\n",
              "      <td>6.816667</td>\n",
              "      <td>3.200000</td>\n",
              "      <td>19.75</td>\n",
              "      <td>74.016663</td>\n",
              "      <td>6075651</td>\n",
              "      <td>77.433334</td>\n",
              "      <td>0.3096</td>\n",
              "      <td>88.900002</td>\n",
              "      <td>33.849998</td>\n",
              "      <td>NaN</td>\n",
              "      <td>0</td>\n",
              "      <td>1</td>\n",
              "      <td>0</td>\n",
              "      <td>0</td>\n",
              "      <td>0</td>\n",
              "      <td>1</td>\n",
              "    </tr>\n",
              "    <tr>\n",
              "      <th>40</th>\n",
              "      <td>Seychelles</td>\n",
              "      <td>Africa</td>\n",
              "      <td>18625.800781</td>\n",
              "      <td>9.400000</td>\n",
              "      <td>51.299999</td>\n",
              "      <td>12.75</td>\n",
              "      <td>72.983330</td>\n",
              "      <td>85167</td>\n",
              "      <td>54.066666</td>\n",
              "      <td>NaN</td>\n",
              "      <td>91.800003</td>\n",
              "      <td>30.799999</td>\n",
              "      <td>19.0</td>\n",
              "      <td>0</td>\n",
              "      <td>1</td>\n",
              "      <td>0</td>\n",
              "      <td>0</td>\n",
              "      <td>0</td>\n",
              "      <td>1</td>\n",
              "    </tr>\n",
              "    <tr>\n",
              "      <th>43</th>\n",
              "      <td>South Africa</td>\n",
              "      <td>Africa</td>\n",
              "      <td>9175.400391</td>\n",
              "      <td>8.350000</td>\n",
              "      <td>59.200001</td>\n",
              "      <td>68.75</td>\n",
              "      <td>51.433334</td>\n",
              "      <td>49028316</td>\n",
              "      <td>60.483334</td>\n",
              "      <td>0.7406</td>\n",
              "      <td>NaN</td>\n",
              "      <td>31.400000</td>\n",
              "      <td>NaN</td>\n",
              "      <td>0</td>\n",
              "      <td>1</td>\n",
              "      <td>0</td>\n",
              "      <td>0</td>\n",
              "      <td>0</td>\n",
              "      <td>1</td>\n",
              "    </tr>\n",
              "    <tr>\n",
              "      <th>52</th>\n",
              "      <td>Antigua and Barbuda</td>\n",
              "      <td>Americas</td>\n",
              "      <td>17676.400391</td>\n",
              "      <td>8.900000</td>\n",
              "      <td>55.500000</td>\n",
              "      <td>13.00</td>\n",
              "      <td>72.166664</td>\n",
              "      <td>86367</td>\n",
              "      <td>30.466667</td>\n",
              "      <td>NaN</td>\n",
              "      <td>99.000000</td>\n",
              "      <td>18.299999</td>\n",
              "      <td>NaN</td>\n",
              "      <td>1</td>\n",
              "      <td>0</td>\n",
              "      <td>0</td>\n",
              "      <td>0</td>\n",
              "      <td>0</td>\n",
              "      <td>1</td>\n",
              "    </tr>\n",
              "    <tr>\n",
              "      <th>...</th>\n",
              "      <td>...</td>\n",
              "      <td>...</td>\n",
              "      <td>...</td>\n",
              "      <td>...</td>\n",
              "      <td>...</td>\n",
              "      <td>...</td>\n",
              "      <td>...</td>\n",
              "      <td>...</td>\n",
              "      <td>...</td>\n",
              "      <td>...</td>\n",
              "      <td>...</td>\n",
              "      <td>...</td>\n",
              "      <td>...</td>\n",
              "      <td>...</td>\n",
              "      <td>...</td>\n",
              "      <td>...</td>\n",
              "      <td>...</td>\n",
              "      <td>...</td>\n",
              "      <td>...</td>\n",
              "    </tr>\n",
              "    <tr>\n",
              "      <th>178</th>\n",
              "      <td>United Kingdom</td>\n",
              "      <td>Europe</td>\n",
              "      <td>33295.800781</td>\n",
              "      <td>9.066667</td>\n",
              "      <td>29.600000</td>\n",
              "      <td>6.00</td>\n",
              "      <td>79.550003</td>\n",
              "      <td>61099184</td>\n",
              "      <td>79.316666</td>\n",
              "      <td>0.7916</td>\n",
              "      <td>NaN</td>\n",
              "      <td>34.099998</td>\n",
              "      <td>NaN</td>\n",
              "      <td>0</td>\n",
              "      <td>0</td>\n",
              "      <td>0</td>\n",
              "      <td>1</td>\n",
              "      <td>0</td>\n",
              "      <td>1</td>\n",
              "    </tr>\n",
              "    <tr>\n",
              "      <th>180</th>\n",
              "      <td>Australia</td>\n",
              "      <td>Oceania</td>\n",
              "      <td>33707.199219</td>\n",
              "      <td>11.983334</td>\n",
              "      <td>16.500000</td>\n",
              "      <td>5.25</td>\n",
              "      <td>81.400002</td>\n",
              "      <td>21325382</td>\n",
              "      <td>88.666664</td>\n",
              "      <td>0.7994</td>\n",
              "      <td>NaN</td>\n",
              "      <td>66.199997</td>\n",
              "      <td>NaN</td>\n",
              "      <td>0</td>\n",
              "      <td>0</td>\n",
              "      <td>0</td>\n",
              "      <td>0</td>\n",
              "      <td>1</td>\n",
              "      <td>1</td>\n",
              "    </tr>\n",
              "    <tr>\n",
              "      <th>185</th>\n",
              "      <td>Nauru</td>\n",
              "      <td>Oceania</td>\n",
              "      <td>NaN</td>\n",
              "      <td>NaN</td>\n",
              "      <td>31.200001</td>\n",
              "      <td>45.50</td>\n",
              "      <td>79.466667</td>\n",
              "      <td>10183</td>\n",
              "      <td>100.000000</td>\n",
              "      <td>NaN</td>\n",
              "      <td>NaN</td>\n",
              "      <td>51.849998</td>\n",
              "      <td>NaN</td>\n",
              "      <td>0</td>\n",
              "      <td>0</td>\n",
              "      <td>0</td>\n",
              "      <td>0</td>\n",
              "      <td>1</td>\n",
              "      <td>1</td>\n",
              "    </tr>\n",
              "    <tr>\n",
              "      <th>186</th>\n",
              "      <td>New Zealand</td>\n",
              "      <td>Oceania</td>\n",
              "      <td>25199.599609</td>\n",
              "      <td>12.366667</td>\n",
              "      <td>30.900000</td>\n",
              "      <td>6.25</td>\n",
              "      <td>80.083336</td>\n",
              "      <td>4253334</td>\n",
              "      <td>86.133331</td>\n",
              "      <td>0.8118</td>\n",
              "      <td>NaN</td>\n",
              "      <td>26.950001</td>\n",
              "      <td>NaN</td>\n",
              "      <td>0</td>\n",
              "      <td>0</td>\n",
              "      <td>0</td>\n",
              "      <td>0</td>\n",
              "      <td>1</td>\n",
              "      <td>1</td>\n",
              "    </tr>\n",
              "    <tr>\n",
              "      <th>187</th>\n",
              "      <td>Palau</td>\n",
              "      <td>Oceania</td>\n",
              "      <td>NaN</td>\n",
              "      <td>12.100000</td>\n",
              "      <td>13.800000</td>\n",
              "      <td>15.00</td>\n",
              "      <td>70.666664</td>\n",
              "      <td>20167</td>\n",
              "      <td>80.683334</td>\n",
              "      <td>NaN</td>\n",
              "      <td>NaN</td>\n",
              "      <td>21.349998</td>\n",
              "      <td>NaN</td>\n",
              "      <td>0</td>\n",
              "      <td>0</td>\n",
              "      <td>0</td>\n",
              "      <td>0</td>\n",
              "      <td>1</td>\n",
              "      <td>1</td>\n",
              "    </tr>\n",
              "  </tbody>\n",
              "</table>\n",
              "<p>64 rows × 19 columns</p>\n",
              "</div>"
            ],
            "text/plain": [
              "                 country    region           gdp  ...  Europe  Oceania  co2_dummy\n",
              "15     Equatorial Guinea    Africa  27645.800781  ...       0        0          1\n",
              "26                 Libya    Africa  14497.799805  ...       0        0          1\n",
              "40            Seychelles    Africa  18625.800781  ...       0        0          1\n",
              "43          South Africa    Africa   9175.400391  ...       0        0          1\n",
              "52   Antigua and Barbuda  Americas  17676.400391  ...       0        0          1\n",
              "..                   ...       ...           ...  ...     ...      ...        ...\n",
              "178       United Kingdom    Europe  33295.800781  ...       1        0          1\n",
              "180            Australia   Oceania  33707.199219  ...       0        1          1\n",
              "185                Nauru   Oceania           NaN  ...       0        1          1\n",
              "186          New Zealand   Oceania  25199.599609  ...       0        1          1\n",
              "187                Palau   Oceania           NaN  ...       0        1          1\n",
              "\n",
              "[64 rows x 19 columns]"
            ]
          },
          "metadata": {
            "tags": []
          },
          "execution_count": 32
        }
      ]
    },
    {
      "cell_type": "markdown",
      "metadata": {
        "id": "WljHY-1xLQzT"
      },
      "source": [
        "Sigamos respondiendo nuestras preguntas, ¿QUé tal es el índice de alfabetismo en España comparado con el resto de Europa?"
      ]
    },
    {
      "cell_type": "code",
      "metadata": {
        "id": "DhlO4zpFLQzU",
        "colab": {
          "base_uri": "https://localhost:8080/"
        },
        "outputId": "1529840e-7207-4b33-ccd4-b3b1233e283c"
      },
      "source": [
        "df[df['region'] == 'Europe']['literacy'].mean()"
      ],
      "execution_count": 33,
      "outputs": [
        {
          "output_type": "execute_result",
          "data": {
            "text/plain": [
              "98.17727279663086"
            ]
          },
          "metadata": {
            "tags": []
          },
          "execution_count": 33
        }
      ]
    },
    {
      "cell_type": "code",
      "metadata": {
        "id": "iKIFUyCSLQzU",
        "colab": {
          "base_uri": "https://localhost:8080/"
        },
        "outputId": "286663d5-387c-46e4-c323-357cbf615a6e"
      },
      "source": [
        "df[df['country'] == 'Spain']['literacy']"
      ],
      "execution_count": 34,
      "outputs": [
        {
          "output_type": "execute_result",
          "data": {
            "text/plain": [
              "174    97.699997\n",
              "Name: literacy, dtype: float64"
            ]
          },
          "metadata": {
            "tags": []
          },
          "execution_count": 34
        }
      ]
    },
    {
      "cell_type": "markdown",
      "metadata": {
        "id": "d-4cgkpgLQzU"
      },
      "source": [
        "Recuperar todos los paises que se encuentran en `Americas` u `Oceanía`, y además presentan un grado de alfabetismo mayor al de la media de toda la muestra."
      ]
    },
    {
      "cell_type": "code",
      "metadata": {
        "id": "sThGUEMXLQzU",
        "colab": {
          "base_uri": "https://localhost:8080/"
        },
        "outputId": "1d14aba6-044b-4604-af27-28f661b6b0dc"
      },
      "source": [
        "df['literacy'].mean()"
      ],
      "execution_count": 35,
      "outputs": [
        {
          "output_type": "execute_result",
          "data": {
            "text/plain": [
              "81.53314803794578"
            ]
          },
          "metadata": {
            "tags": []
          },
          "execution_count": 35
        }
      ]
    },
    {
      "cell_type": "markdown",
      "metadata": {
        "id": "eRbmXtg0LQzU"
      },
      "source": [
        "**Pregunta 4:** Tasa de alfabetismo en África y otros continentes"
      ]
    },
    {
      "cell_type": "code",
      "metadata": {
        "id": "TZONJt6qLQzU",
        "colab": {
          "base_uri": "https://localhost:8080/"
        },
        "outputId": "179f3cfe-d48d-443e-8195-dc56cc4eaf0a"
      },
      "source": [
        "df[df['region'] == 'Africa']['literacy'].mean()"
      ],
      "execution_count": 36,
      "outputs": [
        {
          "output_type": "execute_result",
          "data": {
            "text/plain": [
              "65.30851067887976"
            ]
          },
          "metadata": {
            "tags": []
          },
          "execution_count": 36
        }
      ]
    },
    {
      "cell_type": "code",
      "metadata": {
        "scrolled": true,
        "id": "ShGvxXK1LQzU",
        "colab": {
          "base_uri": "https://localhost:8080/"
        },
        "outputId": "3bb7e5a6-4a62-4ccb-cafa-307b4433779c"
      },
      "source": [
        "df[df['region'] != 'Africa']['literacy'].mean()"
      ],
      "execution_count": 37,
      "outputs": [
        {
          "output_type": "execute_result",
          "data": {
            "text/plain": [
              "90.19857935471968"
            ]
          },
          "metadata": {
            "tags": []
          },
          "execution_count": 37
        }
      ]
    },
    {
      "cell_type": "markdown",
      "metadata": {
        "id": "n7FwhpB7LQzU"
      },
      "source": [
        "<i><h2 style=\"text-align:center;color:#283A5B\"> Gráficos en Python utilizando matplotlib y seaborn</h2></i>"
      ]
    },
    {
      "cell_type": "code",
      "metadata": {
        "id": "DOdthT6QLQzU"
      },
      "source": [
        "import matplotlib.pyplot as plt  # Nos permitira hacer graficos basicos\n",
        "\n",
        "\n",
        "\n",
        "'''\n",
        "La linea %matplotlib inline le indica a jupyter que debe mostrar el grafico\n",
        "Como output de la celda.\n",
        "'''\n",
        "import seaborn as sn\n",
        "\n",
        "plt.rcParams['figure.figsize'] = (10,5)\n"
      ],
      "execution_count": 38,
      "outputs": []
    },
    {
      "cell_type": "markdown",
      "metadata": {
        "id": "ltI4FrKeLQzU"
      },
      "source": [
        "## Histogramas\n"
      ]
    },
    {
      "cell_type": "markdown",
      "metadata": {
        "id": "hxDNScR-LQzU"
      },
      "source": [
        "Antes de partir de lleno usando matplotlib y seaborn, veamos que la librería pandas incluye ya un método para graficar:"
      ]
    },
    {
      "cell_type": "code",
      "metadata": {
        "id": "o-tUkBj3LQzV",
        "colab": {
          "base_uri": "https://localhost:8080/",
          "height": 337
        },
        "outputId": "657fb682-0e52-4b7d-c84b-097690666709"
      },
      "source": [
        "# Veamos que pasa si tratamos de graficar directamente una variable\n",
        "df['literacy'].plot()\n"
      ],
      "execution_count": 39,
      "outputs": [
        {
          "output_type": "execute_result",
          "data": {
            "text/plain": [
              "<matplotlib.axes._subplots.AxesSubplot at 0x7fb167c8b3d0>"
            ]
          },
          "metadata": {
            "tags": []
          },
          "execution_count": 39
        },
        {
          "output_type": "display_data",
          "data": {
            "image/png": "[encoded data removed]",
            "text/plain": [
              "<Figure size 720x360 with 1 Axes>"
            ]
          },
          "metadata": {
            "tags": [],
            "needs_background": "light"
          }
        }
      ]
    },
    {
      "cell_type": "code",
      "metadata": {
        "id": "iubHCbv2LQzV",
        "colab": {
          "base_uri": "https://localhost:8080/",
          "height": 320
        },
        "outputId": "5147e910-8822-4667-9baf-e5694d9a8376"
      },
      "source": [
        "df['literacy'].plot(kind = 'hist');"
      ],
      "execution_count": 40,
      "outputs": [
        {
          "output_type": "display_data",
          "data": {
            "image/png": "[encoded data removed]",
            "text/plain": [
              "<Figure size 720x360 with 1 Axes>"
            ]
          },
          "metadata": {
            "tags": [],
            "needs_background": "light"
          }
        }
      ]
    },
    {
      "cell_type": "markdown",
      "metadata": {
        "id": "d0YK04wtLQzV"
      },
      "source": [
        "Ahora con matplotlib:"
      ]
    },
    {
      "cell_type": "code",
      "metadata": {
        "id": "s3nMbjA_LQzV",
        "colab": {
          "base_uri": "https://localhost:8080/",
          "height": 320
        },
        "outputId": "e4f42248-9e48-480b-a5a2-6e9ca73bac7c"
      },
      "source": [
        "plt.hist(df['gini']);"
      ],
      "execution_count": 41,
      "outputs": [
        {
          "output_type": "display_data",
          "data": {
            "image/png": "[encoded data removed]",
            "text/plain": [
              "<Figure size 720x360 with 1 Axes>"
            ]
          },
          "metadata": {
            "tags": [],
            "needs_background": "light"
          }
        }
      ]
    },
    {
      "cell_type": "markdown",
      "metadata": {
        "id": "774wMFkhLQzV"
      },
      "source": [
        "Podemos ver la cantidad de valores faltantes en cada columna"
      ]
    },
    {
      "cell_type": "code",
      "metadata": {
        "id": "bozx1YrQLQzV",
        "colab": {
          "base_uri": "https://localhost:8080/"
        },
        "outputId": "77927d7a-fced-488e-d988-d80800c65114"
      },
      "source": [
        "df.isna().sum()"
      ],
      "execution_count": 42,
      "outputs": [
        {
          "output_type": "execute_result",
          "data": {
            "text/plain": [
              "country        0\n",
              "region         0\n",
              "gdp           15\n",
              "school         6\n",
              "adfert         0\n",
              "chldmort       1\n",
              "life           0\n",
              "pop            0\n",
              "urban          0\n",
              "femlab        17\n",
              "literacy      59\n",
              "co2            9\n",
              "gini         113\n",
              "Americas       0\n",
              "Africa         0\n",
              "Asia           0\n",
              "Europe         0\n",
              "Oceania        0\n",
              "co2_dummy      0\n",
              "dtype: int64"
            ]
          },
          "metadata": {
            "tags": []
          },
          "execution_count": 42
        }
      ]
    },
    {
      "cell_type": "markdown",
      "metadata": {
        "id": "dzrifIEwLQzV"
      },
      "source": [
        "Continuando con el ejercicio, veamos una forma más limpia de hacer lo anterior y agreguemos una linea vertical que indique la media del `gdp`."
      ]
    },
    {
      "cell_type": "code",
      "metadata": {
        "id": "04xuGNkQLQzV",
        "colab": {
          "base_uri": "https://localhost:8080/",
          "height": 377
        },
        "outputId": "3f81b157-2159-4805-b1d6-c115f9851f6a"
      },
      "source": [
        "gdp_clean = df['gdp'].dropna()\n",
        "\n",
        "\n",
        "plt.hist(gdp_clean, color = 'dodgerblue')\n",
        "\n",
        "plt.axvline(gdp_clean.mean(), color = 'tomato', linewidth = 2,\n",
        "            linestyle = '-', label = 'Media de GDP')\n",
        "\n",
        "plt.legend()\n",
        "plt.xlabel('GDP', size = 25)\n",
        "plt.title('Histograma del producto interno bruto', size = 30);\n"
      ],
      "execution_count": 43,
      "outputs": [
        {
          "output_type": "display_data",
          "data": {
            "image/png": "[encoded data removed]",
            "text/plain": [
              "<Figure size 720x360 with 1 Axes>"
            ]
          },
          "metadata": {
            "tags": [],
            "needs_background": "light"
          }
        }
      ]
    },
    {
      "cell_type": "markdown",
      "metadata": {
        "id": "ZsvaqO3dLQzV"
      },
      "source": [
        "Implementemos una función simple que repita este proceso:"
      ]
    },
    {
      "cell_type": "code",
      "metadata": {
        "id": "j4Ly2OJ-LQzV"
      },
      "source": [
        "def plot_hist_custom(var, titulo = 'Valor por defecto'):\n",
        "    plt.hist(var, color = 'dodgerblue')\n",
        "    plt.title(titulo, size = 17)\n",
        "    plt.axvline(var.mean(), color = 'tomato', linewidth = 2,\n",
        "                linestyle = '--', label = 'Media de la variable')\n",
        "    plt.legend()\n"
      ],
      "execution_count": 44,
      "outputs": []
    },
    {
      "cell_type": "code",
      "metadata": {
        "id": "61txgryfLQzW",
        "colab": {
          "base_uri": "https://localhost:8080/",
          "height": 340
        },
        "outputId": "e31b0173-1a4e-4627-d13d-eb98accbe2ac"
      },
      "source": [
        "plot_hist_custom(df['literacy'], 'Literacy');"
      ],
      "execution_count": 45,
      "outputs": [
        {
          "output_type": "display_data",
          "data": {
            "image/png": "[encoded data removed]",
            "text/plain": [
              "<Figure size 720x360 with 1 Axes>"
            ]
          },
          "metadata": {
            "tags": [],
            "needs_background": "light"
          }
        }
      ]
    },
    {
      "cell_type": "code",
      "metadata": {
        "id": "LDOJxKIALQzW",
        "colab": {
          "base_uri": "https://localhost:8080/",
          "height": 340
        },
        "outputId": "279ab8dc-c03f-40ec-b63c-3d6851091f57"
      },
      "source": [
        "plot_hist_custom(df['adfert'], 'Fertilidad Adolecente');"
      ],
      "execution_count": 46,
      "outputs": [
        {
          "output_type": "display_data",
          "data": {
            "image/png": "[encoded data removed]",
            "text/plain": [
              "<Figure size 720x360 with 1 Axes>"
            ]
          },
          "metadata": {
            "tags": [],
            "needs_background": "light"
          }
        }
      ]
    },
    {
      "cell_type": "markdown",
      "metadata": {
        "id": "sDE3nSpVLQzW"
      },
      "source": [
        "Podemos hacer varios graficos al mismo tiempo en una grilla:"
      ]
    },
    {
      "cell_type": "code",
      "metadata": {
        "id": "67BdYJb-LQzW",
        "colab": {
          "base_uri": "https://localhost:8080/",
          "height": 340
        },
        "outputId": "4a0a5186-8626-4537-c1b0-5b1a2a9f5589"
      },
      "source": [
        "plt.subplot(1, 3, 1)\n",
        "plot_hist_custom(df['literacy'], 'Literacy')\n",
        "\n",
        "plt.subplot(1, 3, 2)\n",
        "plot_hist_custom(df['adfert'], 'Adfert')\n",
        "\n",
        "plt.subplot(1, 3, 3)\n",
        "plot_hist_custom(df['gini'], 'Gini')"
      ],
      "execution_count": 47,
      "outputs": [
        {
          "output_type": "display_data",
          "data": {
            "image/png": "[encoded data removed]",
            "text/plain": [
              "<Figure size 720x360 with 3 Axes>"
            ]
          },
          "metadata": {
            "tags": [],
            "needs_background": "light"
          }
        }
      ]
    },
    {
      "cell_type": "markdown",
      "metadata": {
        "id": "ezBVsfsVLQzW"
      },
      "source": [
        "Ya mencionamos que ibamos a utilizar una librería extra llamada `seaborn`, veamos como podemos hacer histogramas con esta librería:"
      ]
    },
    {
      "cell_type": "code",
      "metadata": {
        "id": "9PjNe-SfLQzW",
        "colab": {
          "base_uri": "https://localhost:8080/",
          "height": 378
        },
        "outputId": "2c0e96f2-b807-45e1-b4f7-a67f5c65e81e"
      },
      "source": [
        "plt.subplot(1,2,1)\n",
        "sn.histplot(df['literacy'].dropna());\n",
        "sn.despine()\n",
        "plt.title('Distribución del grado de alfabetismo\\n en las regiones muestreadas',fontsize = 20);\n",
        "\n",
        "plt.subplot(1,2,2)\n",
        "sn.histplot(df['gini'].dropna());\n",
        "sn.despine()\n",
        "plt.title('Distribución de Gini\\n en las regiones muestreadas',fontsize = 20);\n",
        "\n"
      ],
      "execution_count": 48,
      "outputs": [
        {
          "output_type": "display_data",
          "data": {
            "image/png": "[encoded data removed]",
            "text/plain": [
              "<Figure size 720x360 with 2 Axes>"
            ]
          },
          "metadata": {
            "tags": [],
            "needs_background": "light"
          }
        }
      ]
    },
    {
      "cell_type": "markdown",
      "metadata": {
        "id": "rTlvt99fLQzW"
      },
      "source": [
        "-----\n",
        "## Gráfico de barras\n",
        "\n",
        "Comparemos las medias de dos regiones o de una region con el resto del mundo"
      ]
    },
    {
      "cell_type": "code",
      "metadata": {
        "id": "OHAdoD5FLQzW",
        "colab": {
          "base_uri": "https://localhost:8080/",
          "height": 351
        },
        "outputId": "eb58b77a-488d-4066-b422-59ac050336c0"
      },
      "source": [
        "# Primero guardamos la media de una de las regiones\n",
        "media_region = df[df['region'] == 'Europe']['literacy'].mean()\n",
        "\n",
        "media_resto = df[df['region'] != 'Europe']['literacy'].mean()\n",
        "\n",
        "# Ahora graficamos\n",
        "plt.bar(['Europa', 'Resto del mundo'], [media_region, media_resto])\n",
        "\n",
        "plt.title('Comparación de la media del grado de alfabetismo\\n de europa con el resto del mundo');\n",
        "\n"
      ],
      "execution_count": 49,
      "outputs": [
        {
          "output_type": "display_data",
          "data": {
            "image/png": "[encoded data removed]",
            "text/plain": [
              "<Figure size 720x360 with 1 Axes>"
            ]
          },
          "metadata": {
            "tags": [],
            "needs_background": "light"
          }
        }
      ]
    },
    {
      "cell_type": "markdown",
      "metadata": {
        "id": "r8o1QLNnLQzW"
      },
      "source": [
        "Con seaborn:"
      ]
    },
    {
      "cell_type": "code",
      "metadata": {
        "id": "mgEQarzvLQzW",
        "colab": {
          "base_uri": "https://localhost:8080/",
          "height": 449
        },
        "outputId": "659aa92a-e3a6-4465-c80b-e7a2cabc0c6c"
      },
      "source": [
        "sn.barplot(['Europa', 'Resto del mundo'], [media_region, media_resto])\n",
        "\n",
        "plt.title('Comparación de la media del grado de alfabetistmo de \\nlas regiones de \\n Europa con el resto del mundo',\n",
        "          fontsize = 15)\n",
        "\n",
        "plt.xticks(fontsize = 17)\n",
        "plt.yticks(fontsize = 20)\n",
        "\n",
        "plt.ylabel('Grado de alfabetismo de la población (%)', fontsize = 20)\n",
        "sn.despine();\n"
      ],
      "execution_count": 50,
      "outputs": [
        {
          "output_type": "display_data",
          "data": {
            "image/png": "[encoded data removed]",
            "text/plain": [
              "<Figure size 720x360 with 1 Axes>"
            ]
          },
          "metadata": {
            "tags": [],
            "needs_background": "light"
          }
        }
      ]
    },
    {
      "cell_type": "markdown",
      "metadata": {
        "id": "mgd61lKNLQzW"
      },
      "source": [
        "-------\n",
        "\n",
        "## Diagramas de dispersión\n",
        "\n",
        "Primero vamos a limpiar los valores perdidos"
      ]
    },
    {
      "cell_type": "code",
      "metadata": {
        "id": "UblVQxveLQzW",
        "colab": {
          "base_uri": "https://localhost:8080/"
        },
        "outputId": "b17928f9-777c-4811-d1b9-3b26fb972960"
      },
      "source": [
        "df_clean = df.dropna()#.drop(columns = 'Oceania')\n",
        "\n",
        "print(df['region'].value_counts())\n",
        "print(df_clean['region'].value_counts())\n"
      ],
      "execution_count": 51,
      "outputs": [
        {
          "output_type": "stream",
          "text": [
            "Africa      52\n",
            "Asia        49\n",
            "Europe      43\n",
            "Americas    35\n",
            "Oceania     15\n",
            "Name: region, dtype: int64\n",
            "Asia        23\n",
            "Africa      20\n",
            "Americas    14\n",
            "Europe      14\n",
            "Name: region, dtype: int64\n"
          ],
          "name": "stdout"
        }
      ]
    },
    {
      "cell_type": "code",
      "metadata": {
        "id": "xLVO-iExLQzX",
        "colab": {
          "base_uri": "https://localhost:8080/",
          "height": 375
        },
        "outputId": "d4763c5b-09c5-4bf0-b60b-843039af05e3"
      },
      "source": [
        "#fig, ax = plt.subplots(figsize = (10,5))\n",
        "\n",
        "plt.plot(df_clean['school'], df_clean['literacy'], 'o');\n",
        "\n",
        "\n",
        "plt.title('Años de escolaridad y grado de alfabetismo\\n de la población mundial', fontsize = 16);\n",
        "plt.xlabel('Años de escolaridad', fontsize = 16)\n",
        "plt.ylabel('Grado de alfabetismo', fontsize = 16);\n"
      ],
      "execution_count": 52,
      "outputs": [
        {
          "output_type": "display_data",
          "data": {
            "image/png": "[encoded data removed]",
            "text/plain": [
              "<Figure size 720x360 with 1 Axes>"
            ]
          },
          "metadata": {
            "tags": [],
            "needs_background": "light"
          }
        }
      ]
    },
    {
      "cell_type": "markdown",
      "metadata": {
        "id": "wLO2AssxLQzX"
      },
      "source": [
        "En seaborn:"
      ]
    },
    {
      "cell_type": "code",
      "metadata": {
        "id": "bzxuQPR1LQzX",
        "colab": {
          "base_uri": "https://localhost:8080/",
          "height": 375
        },
        "outputId": "a0ec2e5a-3293-4242-9613-3d837ef3cdb1"
      },
      "source": [
        "sn.scatterplot(x = 'school', y = 'literacy', data = df_clean);\n",
        "\n",
        "sn.despine()\n",
        "plt.title('Años de escolaridad y grado de alfabetismo\\n de la población mundial', fontsize = 16);\n",
        "plt.xlabel('Años de escolaridad', fontsize = 16)\n",
        "plt.ylabel('Grado de alfabetismo', fontsize = 16);\n"
      ],
      "execution_count": 53,
      "outputs": [
        {
          "output_type": "display_data",
          "data": {
            "image/png": "[encoded data removed]",
            "text/plain": [
              "<Figure size 720x360 with 1 Axes>"
            ]
          },
          "metadata": {
            "tags": [],
            "needs_background": "light"
          }
        }
      ]
    },
    {
      "cell_type": "markdown",
      "metadata": {
        "id": "1pS2u41pLQzX"
      },
      "source": [
        "## Análisis de correlaciones\n",
        "\n",
        "Podemos estudiar la correlación entre dos variables con los métodos que entrega al clase `dataframe` de pandas, por ejemplo, vemos la correlación de las dos variables que acabamos de graficar:"
      ]
    },
    {
      "cell_type": "code",
      "metadata": {
        "id": "bJoSkupXLQzX",
        "colab": {
          "base_uri": "https://localhost:8080/"
        },
        "outputId": "d1b4828c-0cf2-4618-db67-a7fc347dd254"
      },
      "source": [
        "# Calculo de correlacion entre dos variables\n",
        "df_clean['literacy'].corr(df_clean['life'])"
      ],
      "execution_count": 54,
      "outputs": [
        {
          "output_type": "execute_result",
          "data": {
            "text/plain": [
              "0.7251724684459829"
            ]
          },
          "metadata": {
            "tags": []
          },
          "execution_count": 54
        }
      ]
    },
    {
      "cell_type": "markdown",
      "metadata": {
        "id": "NCAEwRckLQzX"
      },
      "source": [
        "Veamos la correlacion entre la variable `school` y `literacy`:"
      ]
    },
    {
      "cell_type": "code",
      "metadata": {
        "id": "V1-SD9eoLQzX",
        "colab": {
          "base_uri": "https://localhost:8080/"
        },
        "outputId": "e5facc54-d176-403f-fa17-1ed1ca9cafb0"
      },
      "source": [
        "df_clean['school'].corr(df_clean['literacy'])"
      ],
      "execution_count": 55,
      "outputs": [
        {
          "output_type": "execute_result",
          "data": {
            "text/plain": [
              "0.884432491376833"
            ]
          },
          "metadata": {
            "tags": []
          },
          "execution_count": 55
        }
      ]
    },
    {
      "cell_type": "markdown",
      "metadata": {
        "id": "99SHwIelLQzX"
      },
      "source": [
        "También, podemos estudiar la correlación entre todas las variables del dataset:"
      ]
    },
    {
      "cell_type": "code",
      "metadata": {
        "id": "3TLGomo-LQzX",
        "colab": {
          "base_uri": "https://localhost:8080/",
          "height": 596
        },
        "outputId": "e1433518-cd13-4290-9968-077f1bed2e0f"
      },
      "source": [
        "df.corr()"
      ],
      "execution_count": 56,
      "outputs": [
        {
          "output_type": "execute_result",
          "data": {
            "text/html": [
              "<div>\n",
              "<style scoped>\n",
              "    .dataframe tbody tr th:only-of-type {\n",
              "        vertical-align: middle;\n",
              "    }\n",
              "\n",
              "    .dataframe tbody tr th {\n",
              "        vertical-align: top;\n",
              "    }\n",
              "\n",
              "    .dataframe thead th {\n",
              "        text-align: right;\n",
              "    }\n",
              "</style>\n",
              "<table border=\"1\" class=\"dataframe\">\n",
              "  <thead>\n",
              "    <tr style=\"text-align: right;\">\n",
              "      <th></th>\n",
              "      <th>gdp</th>\n",
              "      <th>school</th>\n",
              "      <th>adfert</th>\n",
              "      <th>chldmort</th>\n",
              "      <th>life</th>\n",
              "      <th>pop</th>\n",
              "      <th>urban</th>\n",
              "      <th>femlab</th>\n",
              "      <th>literacy</th>\n",
              "      <th>co2</th>\n",
              "      <th>gini</th>\n",
              "      <th>Americas</th>\n",
              "      <th>Africa</th>\n",
              "      <th>Asia</th>\n",
              "      <th>Europe</th>\n",
              "      <th>Oceania</th>\n",
              "      <th>co2_dummy</th>\n",
              "    </tr>\n",
              "  </thead>\n",
              "  <tbody>\n",
              "    <tr>\n",
              "      <th>gdp</th>\n",
              "      <td>1.000000</td>\n",
              "      <td>0.573280</td>\n",
              "      <td>-0.517120</td>\n",
              "      <td>-0.516019</td>\n",
              "      <td>0.611219</td>\n",
              "      <td>-0.053251</td>\n",
              "      <td>0.656482</td>\n",
              "      <td>0.009827</td>\n",
              "      <td>0.442487</td>\n",
              "      <td>0.826819</td>\n",
              "      <td>-0.079037</td>\n",
              "      <td>-0.050769</td>\n",
              "      <td>-0.376984</td>\n",
              "      <td>0.065906</td>\n",
              "      <td>0.430669</td>\n",
              "      <td>-0.073917</td>\n",
              "      <td>0.757224</td>\n",
              "    </tr>\n",
              "    <tr>\n",
              "      <th>school</th>\n",
              "      <td>0.573280</td>\n",
              "      <td>1.000000</td>\n",
              "      <td>-0.675219</td>\n",
              "      <td>-0.772668</td>\n",
              "      <td>0.725207</td>\n",
              "      <td>-0.058784</td>\n",
              "      <td>0.565080</td>\n",
              "      <td>0.094663</td>\n",
              "      <td>0.854910</td>\n",
              "      <td>0.416818</td>\n",
              "      <td>-0.201446</td>\n",
              "      <td>0.099432</td>\n",
              "      <td>-0.606958</td>\n",
              "      <td>-0.039299</td>\n",
              "      <td>0.530021</td>\n",
              "      <td>0.115991</td>\n",
              "      <td>0.559620</td>\n",
              "    </tr>\n",
              "    <tr>\n",
              "      <th>adfert</th>\n",
              "      <td>-0.517120</td>\n",
              "      <td>-0.675219</td>\n",
              "      <td>1.000000</td>\n",
              "      <td>0.777416</td>\n",
              "      <td>-0.731787</td>\n",
              "      <td>-0.004868</td>\n",
              "      <td>-0.451075</td>\n",
              "      <td>0.032290</td>\n",
              "      <td>-0.676430</td>\n",
              "      <td>-0.437615</td>\n",
              "      <td>0.354003</td>\n",
              "      <td>0.126447</td>\n",
              "      <td>0.563209</td>\n",
              "      <td>-0.237397</td>\n",
              "      <td>-0.440451</td>\n",
              "      <td>-0.044925</td>\n",
              "      <td>-0.485654</td>\n",
              "    </tr>\n",
              "    <tr>\n",
              "      <th>chldmort</th>\n",
              "      <td>-0.516019</td>\n",
              "      <td>-0.772668</td>\n",
              "      <td>0.777416</td>\n",
              "      <td>1.000000</td>\n",
              "      <td>-0.923563</td>\n",
              "      <td>-0.005432</td>\n",
              "      <td>-0.556266</td>\n",
              "      <td>0.137984</td>\n",
              "      <td>-0.790070</td>\n",
              "      <td>-0.416292</td>\n",
              "      <td>0.063676</td>\n",
              "      <td>-0.217903</td>\n",
              "      <td>0.715976</td>\n",
              "      <td>-0.115198</td>\n",
              "      <td>-0.412735</td>\n",
              "      <td>-0.045378</td>\n",
              "      <td>-0.445629</td>\n",
              "    </tr>\n",
              "    <tr>\n",
              "      <th>life</th>\n",
              "      <td>0.611219</td>\n",
              "      <td>0.725207</td>\n",
              "      <td>-0.731787</td>\n",
              "      <td>-0.923563</td>\n",
              "      <td>1.000000</td>\n",
              "      <td>0.005418</td>\n",
              "      <td>0.623945</td>\n",
              "      <td>-0.174210</td>\n",
              "      <td>0.664518</td>\n",
              "      <td>0.445990</td>\n",
              "      <td>-0.025493</td>\n",
              "      <td>0.220900</td>\n",
              "      <td>-0.738453</td>\n",
              "      <td>0.124220</td>\n",
              "      <td>0.437172</td>\n",
              "      <td>0.024682</td>\n",
              "      <td>0.482796</td>\n",
              "    </tr>\n",
              "    <tr>\n",
              "      <th>pop</th>\n",
              "      <td>-0.053251</td>\n",
              "      <td>-0.058784</td>\n",
              "      <td>-0.004868</td>\n",
              "      <td>-0.005432</td>\n",
              "      <td>0.005418</td>\n",
              "      <td>1.000000</td>\n",
              "      <td>-0.066228</td>\n",
              "      <td>-0.057245</td>\n",
              "      <td>-0.030396</td>\n",
              "      <td>-0.023302</td>\n",
              "      <td>-0.015499</td>\n",
              "      <td>-0.030497</td>\n",
              "      <td>-0.074678</td>\n",
              "      <td>0.212443</td>\n",
              "      <td>-0.070454</td>\n",
              "      <td>-0.068276</td>\n",
              "      <td>-0.059366</td>\n",
              "    </tr>\n",
              "    <tr>\n",
              "      <th>urban</th>\n",
              "      <td>0.656482</td>\n",
              "      <td>0.565080</td>\n",
              "      <td>-0.451075</td>\n",
              "      <td>-0.556266</td>\n",
              "      <td>0.623945</td>\n",
              "      <td>-0.066228</td>\n",
              "      <td>1.000000</td>\n",
              "      <td>-0.165942</td>\n",
              "      <td>0.478254</td>\n",
              "      <td>0.522432</td>\n",
              "      <td>0.138066</td>\n",
              "      <td>0.125388</td>\n",
              "      <td>-0.380774</td>\n",
              "      <td>0.000740</td>\n",
              "      <td>0.333718</td>\n",
              "      <td>-0.069222</td>\n",
              "      <td>0.539902</td>\n",
              "    </tr>\n",
              "    <tr>\n",
              "      <th>femlab</th>\n",
              "      <td>0.009827</td>\n",
              "      <td>0.094663</td>\n",
              "      <td>0.032290</td>\n",
              "      <td>0.137984</td>\n",
              "      <td>-0.174210</td>\n",
              "      <td>-0.057245</td>\n",
              "      <td>-0.165942</td>\n",
              "      <td>1.000000</td>\n",
              "      <td>-0.075675</td>\n",
              "      <td>-0.101363</td>\n",
              "      <td>-0.049513</td>\n",
              "      <td>-0.103243</td>\n",
              "      <td>0.133639</td>\n",
              "      <td>-0.272426</td>\n",
              "      <td>0.225610</td>\n",
              "      <td>0.040384</td>\n",
              "      <td>0.059591</td>\n",
              "    </tr>\n",
              "    <tr>\n",
              "      <th>literacy</th>\n",
              "      <td>0.442487</td>\n",
              "      <td>0.854910</td>\n",
              "      <td>-0.676430</td>\n",
              "      <td>-0.790070</td>\n",
              "      <td>0.664518</td>\n",
              "      <td>-0.030396</td>\n",
              "      <td>0.478254</td>\n",
              "      <td>-0.075675</td>\n",
              "      <td>1.000000</td>\n",
              "      <td>0.349137</td>\n",
              "      <td>-0.028563</td>\n",
              "      <td>0.167036</td>\n",
              "      <td>-0.611382</td>\n",
              "      <td>0.198331</td>\n",
              "      <td>0.378672</td>\n",
              "      <td>0.004519</td>\n",
              "      <td>0.425340</td>\n",
              "    </tr>\n",
              "    <tr>\n",
              "      <th>co2</th>\n",
              "      <td>0.826819</td>\n",
              "      <td>0.416818</td>\n",
              "      <td>-0.437615</td>\n",
              "      <td>-0.416292</td>\n",
              "      <td>0.445990</td>\n",
              "      <td>-0.023302</td>\n",
              "      <td>0.522432</td>\n",
              "      <td>-0.101363</td>\n",
              "      <td>0.349137</td>\n",
              "      <td>1.000000</td>\n",
              "      <td>-0.110875</td>\n",
              "      <td>-0.055584</td>\n",
              "      <td>-0.320441</td>\n",
              "      <td>0.191964</td>\n",
              "      <td>0.219832</td>\n",
              "      <td>-0.030041</td>\n",
              "      <td>0.682762</td>\n",
              "    </tr>\n",
              "    <tr>\n",
              "      <th>gini</th>\n",
              "      <td>-0.079037</td>\n",
              "      <td>-0.201446</td>\n",
              "      <td>0.354003</td>\n",
              "      <td>0.063676</td>\n",
              "      <td>-0.025493</td>\n",
              "      <td>-0.015499</td>\n",
              "      <td>0.138066</td>\n",
              "      <td>-0.049513</td>\n",
              "      <td>-0.028563</td>\n",
              "      <td>-0.110875</td>\n",
              "      <td>1.000000</td>\n",
              "      <td>0.555167</td>\n",
              "      <td>0.002596</td>\n",
              "      <td>-0.214956</td>\n",
              "      <td>-0.333214</td>\n",
              "      <td>NaN</td>\n",
              "      <td>-0.250052</td>\n",
              "    </tr>\n",
              "    <tr>\n",
              "      <th>Americas</th>\n",
              "      <td>-0.050769</td>\n",
              "      <td>0.099432</td>\n",
              "      <td>0.126447</td>\n",
              "      <td>-0.217903</td>\n",
              "      <td>0.220900</td>\n",
              "      <td>-0.030497</td>\n",
              "      <td>0.125388</td>\n",
              "      <td>-0.103243</td>\n",
              "      <td>0.167036</td>\n",
              "      <td>-0.055584</td>\n",
              "      <td>0.555167</td>\n",
              "      <td>1.000000</td>\n",
              "      <td>-0.283918</td>\n",
              "      <td>-0.272740</td>\n",
              "      <td>-0.250369</td>\n",
              "      <td>-0.135817</td>\n",
              "      <td>-0.129621</td>\n",
              "    </tr>\n",
              "    <tr>\n",
              "      <th>Africa</th>\n",
              "      <td>-0.376984</td>\n",
              "      <td>-0.606958</td>\n",
              "      <td>0.563209</td>\n",
              "      <td>0.715976</td>\n",
              "      <td>-0.738453</td>\n",
              "      <td>-0.074678</td>\n",
              "      <td>-0.380774</td>\n",
              "      <td>0.133639</td>\n",
              "      <td>-0.611382</td>\n",
              "      <td>-0.320441</td>\n",
              "      <td>0.002596</td>\n",
              "      <td>-0.283918</td>\n",
              "      <td>1.000000</td>\n",
              "      <td>-0.351780</td>\n",
              "      <td>-0.322926</td>\n",
              "      <td>-0.175177</td>\n",
              "      <td>-0.325592</td>\n",
              "    </tr>\n",
              "    <tr>\n",
              "      <th>Asia</th>\n",
              "      <td>0.065906</td>\n",
              "      <td>-0.039299</td>\n",
              "      <td>-0.237397</td>\n",
              "      <td>-0.115198</td>\n",
              "      <td>0.124220</td>\n",
              "      <td>0.212443</td>\n",
              "      <td>0.000740</td>\n",
              "      <td>-0.272426</td>\n",
              "      <td>0.198331</td>\n",
              "      <td>0.191964</td>\n",
              "      <td>-0.214956</td>\n",
              "      <td>-0.272740</td>\n",
              "      <td>-0.351780</td>\n",
              "      <td>1.000000</td>\n",
              "      <td>-0.310213</td>\n",
              "      <td>-0.168280</td>\n",
              "      <td>0.021070</td>\n",
              "    </tr>\n",
              "    <tr>\n",
              "      <th>Europe</th>\n",
              "      <td>0.430669</td>\n",
              "      <td>0.530021</td>\n",
              "      <td>-0.440451</td>\n",
              "      <td>-0.412735</td>\n",
              "      <td>0.437172</td>\n",
              "      <td>-0.070454</td>\n",
              "      <td>0.333718</td>\n",
              "      <td>0.225610</td>\n",
              "      <td>0.378672</td>\n",
              "      <td>0.219832</td>\n",
              "      <td>-0.333214</td>\n",
              "      <td>-0.250369</td>\n",
              "      <td>-0.322926</td>\n",
              "      <td>-0.310213</td>\n",
              "      <td>1.000000</td>\n",
              "      <td>-0.154477</td>\n",
              "      <td>0.470207</td>\n",
              "    </tr>\n",
              "    <tr>\n",
              "      <th>Oceania</th>\n",
              "      <td>-0.073917</td>\n",
              "      <td>0.115991</td>\n",
              "      <td>-0.044925</td>\n",
              "      <td>-0.045378</td>\n",
              "      <td>0.024682</td>\n",
              "      <td>-0.068276</td>\n",
              "      <td>-0.069222</td>\n",
              "      <td>0.040384</td>\n",
              "      <td>0.004519</td>\n",
              "      <td>-0.030041</td>\n",
              "      <td>NaN</td>\n",
              "      <td>-0.135817</td>\n",
              "      <td>-0.175177</td>\n",
              "      <td>-0.168280</td>\n",
              "      <td>-0.154477</td>\n",
              "      <td>1.000000</td>\n",
              "      <td>-0.038930</td>\n",
              "    </tr>\n",
              "    <tr>\n",
              "      <th>co2_dummy</th>\n",
              "      <td>0.757224</td>\n",
              "      <td>0.559620</td>\n",
              "      <td>-0.485654</td>\n",
              "      <td>-0.445629</td>\n",
              "      <td>0.482796</td>\n",
              "      <td>-0.059366</td>\n",
              "      <td>0.539902</td>\n",
              "      <td>0.059591</td>\n",
              "      <td>0.425340</td>\n",
              "      <td>0.682762</td>\n",
              "      <td>-0.250052</td>\n",
              "      <td>-0.129621</td>\n",
              "      <td>-0.325592</td>\n",
              "      <td>0.021070</td>\n",
              "      <td>0.470207</td>\n",
              "      <td>-0.038930</td>\n",
              "      <td>1.000000</td>\n",
              "    </tr>\n",
              "  </tbody>\n",
              "</table>\n",
              "</div>"
            ],
            "text/plain": [
              "                gdp    school    adfert  ...    Europe   Oceania  co2_dummy\n",
              "gdp        1.000000  0.573280 -0.517120  ...  0.430669 -0.073917   0.757224\n",
              "school     0.573280  1.000000 -0.675219  ...  0.530021  0.115991   0.559620\n",
              "adfert    -0.517120 -0.675219  1.000000  ... -0.440451 -0.044925  -0.485654\n",
              "chldmort  -0.516019 -0.772668  0.777416  ... -0.412735 -0.045378  -0.445629\n",
              "life       0.611219  0.725207 -0.731787  ...  0.437172  0.024682   0.482796\n",
              "pop       -0.053251 -0.058784 -0.004868  ... -0.070454 -0.068276  -0.059366\n",
              "urban      0.656482  0.565080 -0.451075  ...  0.333718 -0.069222   0.539902\n",
              "femlab     0.009827  0.094663  0.032290  ...  0.225610  0.040384   0.059591\n",
              "literacy   0.442487  0.854910 -0.676430  ...  0.378672  0.004519   0.425340\n",
              "co2        0.826819  0.416818 -0.437615  ...  0.219832 -0.030041   0.682762\n",
              "gini      -0.079037 -0.201446  0.354003  ... -0.333214       NaN  -0.250052\n",
              "Americas  -0.050769  0.099432  0.126447  ... -0.250369 -0.135817  -0.129621\n",
              "Africa    -0.376984 -0.606958  0.563209  ... -0.322926 -0.175177  -0.325592\n",
              "Asia       0.065906 -0.039299 -0.237397  ... -0.310213 -0.168280   0.021070\n",
              "Europe     0.430669  0.530021 -0.440451  ...  1.000000 -0.154477   0.470207\n",
              "Oceania   -0.073917  0.115991 -0.044925  ... -0.154477  1.000000  -0.038930\n",
              "co2_dummy  0.757224  0.559620 -0.485654  ...  0.470207 -0.038930   1.000000\n",
              "\n",
              "[17 rows x 17 columns]"
            ]
          },
          "metadata": {
            "tags": []
          },
          "execution_count": 56
        }
      ]
    },
    {
      "cell_type": "code",
      "metadata": {
        "id": "nY_Kb4NvLQzX",
        "colab": {
          "base_uri": "https://localhost:8080/",
          "height": 934
        },
        "outputId": "51402bce-55b5-4bc1-8d81-7188688bff68"
      },
      "source": [
        "corr_mat = df_clean.corr()\n",
        "\n",
        "plt.figure(figsize = (15,15))\n",
        "plt.title('Matriz de correlaciones entre las variables del dataset', fontsize = 18)\n",
        "\n",
        "sn.heatmap(corr_mat, cmap = 'viridis', annot = True);\n",
        "\n"
      ],
      "execution_count": 57,
      "outputs": [
        {
          "output_type": "display_data",
          "data": {
            "image/png": "[encoded data removed]",
            "text/plain": [
              "<Figure size 1080x1080 with 2 Axes>"
            ]
          },
          "metadata": {
            "tags": [],
            "needs_background": "light"
          }
        }
      ]
    },
    {
      "cell_type": "markdown",
      "metadata": {
        "id": "Egvj_lhYLQzX"
      },
      "source": [
        "**Cuidado!:** Correlación no implica causalidad"
      ]
    },
    {
      "cell_type": "markdown",
      "metadata": {
        "id": "qufFX2tgLQzY"
      },
      "source": [
        "# Fin\n",
        "------\n",
        "\n",
        "### Librerias de interés\n",
        "* Machine Learning: scikit-learn\n",
        "* Redes neuronales: keras/pytorch + tensorflow\n",
        "* estadística clasica: statsmodels\n",
        "* tratamiento de imagenes: opencv\n",
        "* algebra lineal y matematica: numpy\n",
        "* plotly: Graficos interactivos\n"
      ]
    },
    {
      "cell_type": "code",
      "metadata": {
        "id": "Wje0jfd-LQzY"
      },
      "source": [
        ""
      ],
      "execution_count": null,
      "outputs": []
    }
  ]
}